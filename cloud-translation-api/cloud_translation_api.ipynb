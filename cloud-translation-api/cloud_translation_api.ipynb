{
 "cells": [
  {
   "cell_type": "code",
   "execution_count": 10,
   "id": "3e80439e-62c3-48c7-9489-f56e95dd15ea",
   "metadata": {},
   "outputs": [],
   "source": [
    "import os\n",
    "\n",
    "from google.cloud import translate_v2"
   ]
  },
  {
   "cell_type": "code",
   "execution_count": 11,
   "id": "f8710999-7cd1-4542-b1ee-acfdcfe25d2d",
   "metadata": {},
   "outputs": [],
   "source": [
    "os.environ[\"PROJECT_ID\"] = \"text-analysis-323506\""
   ]
  },
  {
   "cell_type": "markdown",
   "id": "6173b1e1-b5c5-42cf-9ee2-349481fcb6a7",
   "metadata": {},
   "source": [
    " "
   ]
  },
  {
   "cell_type": "markdown",
   "id": "3859845e-1f61-4dd6-a431-4287d086bd24",
   "metadata": {},
   "source": [
    " "
   ]
  },
  {
   "cell_type": "markdown",
   "id": "1ef60129-b76a-4bf3-bd19-127796fa53f9",
   "metadata": {},
   "source": [
    "### Create a new Google Cloud service account to access the APIs programmatically."
   ]
  },
  {
   "cell_type": "markdown",
   "id": "d897b203-4f97-4362-8de8-f1b9a83a7f28",
   "metadata": {},
   "source": [
    "__Don't run the following cell if you already have setup a cloud service account and have it's associated key__.\n",
    "\n",
    "Following command creates a Google Cloud Service account, which is required to access APIs. This command should be run only once. When ran for the first time, it create a service account, details of which can be found in IAM & Admin section of GCP console.\n",
    "\n",
    "After that, it creates a Google Cloud Service account key got the newly created account. Key is stored at /home/jupyter directory. Download this key. Upload it the next time when this notebook is to be run again. __Following cell should not be run more than once, unless we want to create a new cloud service account__."
   ]
  },
  {
   "cell_type": "code",
   "execution_count": null,
   "id": "3fab3af9-f255-4edd-8df8-e2731af5e6c3",
   "metadata": {},
   "outputs": [],
   "source": [
    "%%bash\n",
    "\n",
    "# These should be run only once. These commands setup a cloud service account with required permissions to call APIs\n",
    "gcloud iam service-accounts create my-api-sa --display-name \"api account\"\n",
    "gcloud iam service-accounts keys create ~/key.json --iam-account my-api-sa@${PROJECT_ID}.iam.gserviceaccount.com"
   ]
  },
  {
   "cell_type": "markdown",
   "id": "dce0e455-7eaf-49f8-a601-148e28df2acf",
   "metadata": {},
   "source": [
    " "
   ]
  },
  {
   "cell_type": "markdown",
   "id": "32ffbcfb-2cd4-4544-884f-d33267c2a415",
   "metadata": {},
   "source": [
    " "
   ]
  },
  {
   "cell_type": "markdown",
   "id": "da5e9cb8-8dae-4e4f-b0cf-1ad72094da5e",
   "metadata": {},
   "source": [
    "Following command stores path to json file in an environment variable. This is required to access API endpoints using python."
   ]
  },
  {
   "cell_type": "code",
   "execution_count": 13,
   "id": "f7f742b0-a13c-4f4a-b7cc-da4d0c57eb5d",
   "metadata": {},
   "outputs": [],
   "source": [
    "os.environ[\"GOOGLE_APPLICATION_CREDENTIALS\"] = os.path.abspath(\"/home/jupyter/key.json\")"
   ]
  },
  {
   "cell_type": "markdown",
   "id": "87b86cf1-fcd4-46b8-8711-707bb720abb8",
   "metadata": {},
   "source": [
    "#### Create a Google Cloud translate api client object"
   ]
  },
  {
   "cell_type": "code",
   "execution_count": 14,
   "id": "27c90d89-7366-4f82-aa95-a57b07b2addb",
   "metadata": {},
   "outputs": [],
   "source": [
    "translate_client = translate_v2.Client()"
   ]
  },
  {
   "cell_type": "markdown",
   "id": "48040553-fae0-46cb-93f9-04d654717f6a",
   "metadata": {},
   "source": [
    " "
   ]
  },
  {
   "cell_type": "markdown",
   "id": "427203a3-a963-4758-abed-77e53e939b8c",
   "metadata": {},
   "source": [
    "### Important: \n",
    "#### Enable Cloud Translation API for this project in Google Cloud Platform console."
   ]
  },
  {
   "cell_type": "markdown",
   "id": "779eecd0-e401-4501-ba19-a9acb3c566f0",
   "metadata": {},
   "source": [
    " "
   ]
  },
  {
   "cell_type": "markdown",
   "id": "8443415d-4fe6-4cc0-9139-b696e06f3295",
   "metadata": {},
   "source": [
    "## Translate text"
   ]
  },
  {
   "cell_type": "markdown",
   "id": "ee006d8b-d806-4512-88dd-f43fbc1f2c81",
   "metadata": {},
   "source": [
    "Text file localted inside data folder contains 'french_article.txt' which contains a new artical in french. "
   ]
  },
  {
   "cell_type": "code",
   "execution_count": 60,
   "id": "4c22c788-cc26-4300-b516-61988616ae7b",
   "metadata": {},
   "outputs": [],
   "source": [
    "file_path = './data/french_article.txt'"
   ]
  },
  {
   "cell_type": "markdown",
   "id": "ca88750d-12ca-471e-a7ea-66f70a4f3375",
   "metadata": {},
   "source": [
    "#### Original article in French"
   ]
  },
  {
   "cell_type": "code",
   "execution_count": 61,
   "id": "ad4b4c83-5f58-4464-b6a2-9a97c7f4adbd",
   "metadata": {},
   "outputs": [
    {
     "name": "stdout",
     "output_type": "stream",
     "text": [
      "DÉCRYPTAGESElectronique, bois, plastiques : les entreprises de la planète sont confrontées à un manque de matières et de composants pour répondre à la demande. Voici pourquoi.\n",
      "\n",
      "Les prix du gaz et de l’électricité ne sont pas les seuls à s’envoler depuis quelques mois. Ceux de nombreuses matières premières et composants alimentant les chaînes de production des usines du monde entier grimpent aussi, ralentissant la production et la livraison de biens de consommation. Le Monde fait le point sur ces pénuries.\n",
      "\n",
      "Qu’est-ce qu’une pénurie ?\n",
      "On parle de pénurie lors d’un état de manque partiel ou total de denrées ou de marchandises, à l’échelle d’un territoire ou d’un groupe de personnes. D’un point de vue économique, la pénurie désigne le moment où la demande pour une marchandise est supérieure à l’offre.\n",
      "\n",
      "Celles-ci peuvent avoir des causes diverses, d’ordre climatique (mauvaise récolte), politique (situation de guerre, blocus), économique (insuffisance de production) ou encore purement spéculatif : la peur de manquer entraînant une ruée sur un ou plusieurs produits.\n",
      "\n",
      "Au début de la crise sanitaire due au Covid-19, le confinement a provoqué une frénésie d’achat de pâtes ou de papier toilettes, qui s’est accentuée par les images de rayons vides, créant ainsi la pénurie dans les supermarchés.\n",
      "\n",
      "Pourquoi y a-t-il des pénuries actuellement ?\n",
      "· Parce que la demande a repris bien plus fortement que prévu\n",
      "\n",
      "Après ces mises à l’arrêt généralisées et successives des économies nationales au cours des confinements en 2020 et 2021, la demande de produits manufacturés et de matières premières a repris fortement, entraînant des tensions par rapport à une offre inférieure à la demande.\n",
      "\n",
      "Le graphique ci-dessous montre clairement les déficits d’approvisionnement rencontrés depuis 2020. Le niveau le plus bas de l’indice a été atteint au moment du premier confinement. Les délais d’approvisionnement se sont brièvement raccourcis à l’été 2020, avant de s’allonger durablement jusqu’à aujourd’hui.\n"
     ]
    }
   ],
   "source": [
    "text_lines = []\n",
    "with open(file_path, 'r') as fstream:\n",
    "    lines = fstream.readlines()\n",
    "    for line in lines:\n",
    "        text_lines.append(line.strip())\n",
    "        print(line.strip())"
   ]
  },
  {
   "cell_type": "markdown",
   "id": "92740a14-aa0e-434b-939b-3937ad8c38f3",
   "metadata": {},
   "source": [
    " "
   ]
  },
  {
   "cell_type": "markdown",
   "id": "22eb3149-1a1d-4eb3-bdb8-39a2045680dc",
   "metadata": {},
   "source": [
    "#### Translation to English"
   ]
  },
  {
   "cell_type": "code",
   "execution_count": 62,
   "id": "bcfab2e9-ca25-4fb6-a8ed-7d2243ac1f19",
   "metadata": {},
   "outputs": [
    {
     "name": "stdout",
     "output_type": "stream",
     "text": [
      "Electronics, wood, plastics: companies around the world are faced with a lack of materials and components to meet demand. Here&#39;s why.\n",
      "\n",
      "Gas and electricity prices are not the only ones to soar in recent months. The costs of many raw materials and components supplying the production lines of factories around the world are also rising, slowing the production and delivery of consumer goods. Le Monde takes stock of these shortages.\n",
      "\n",
      "What is a shortage?\n",
      "We speak of shortage when there is a partial or total lack of food or goods, on the scale of a territory or a group of people. From an economic point of view, scarcity refers to the time when the demand for a commodity is greater than the supply.\n",
      "\n",
      "These can have various causes, climatic (bad harvest), political (war situation, blockade), economic (insufficient production) or even purely speculative: the fear of running out leading to a rush on one or more products. .\n",
      "\n",
      "At the start of the health crisis due to Covid-19, the confinement caused a frenzy to buy pulp or toilet paper, which was accentuated by the images of empty shelves, thus creating a shortage in supermarkets.\n",
      "\n",
      "Why are there shortages now?\n",
      "Because demand has picked up much more strongly than expected\n",
      "\n",
      "After these generalized and successive shutdowns of national economies during lockdowns in 2020 and 2021, demand for manufactured products and raw materials picked up sharply, causing tensions with respect to supply below demand.\n",
      "\n",
      "The graph below clearly shows the supply deficits encountered since 2020. The lowest level of the index was reached at the time of the first containment. Supply times were briefly shortened in the summer of 2020, before getting longer lasting until today.\n"
     ]
    }
   ],
   "source": [
    "target_language_code = 'en'\n",
    "\n",
    "responses = translate_client.translate(text_lines, target_language=target_language_code)\n",
    "\n",
    "with open('./results/english_translation.txt', 'w') as fstream:\n",
    "    for response in responses:\n",
    "        w_resposne = response.get('translatedText')\n",
    "        fstream.write(w_resposne + '\\n')\n",
    "        print(w_resposne)\n",
    "        "
   ]
  },
  {
   "cell_type": "markdown",
   "id": "165af05f-aa65-4864-92cb-3b29be98edfc",
   "metadata": {},
   "source": [
    " "
   ]
  },
  {
   "cell_type": "markdown",
   "id": "8a8b51d6-a14d-4e88-a596-c7c2ba86ddd0",
   "metadata": {},
   "source": [
    "#### Translation to Kannada"
   ]
  },
  {
   "cell_type": "code",
   "execution_count": 63,
   "id": "77fb8509-69dd-4969-823d-1829410a02b1",
   "metadata": {},
   "outputs": [
    {
     "name": "stdout",
     "output_type": "stream",
     "text": [
      "ಎಲೆಕ್ಟ್ರಾನಿಕ್ಸ್, ಮರ, ಪ್ಲಾಸ್ಟಿಕ್: ಪ್ರಪಂಚದಾದ್ಯಂತದ ಕಂಪನಿಗಳು ಬೇಡಿಕೆಯನ್ನು ಪೂರೈಸಲು ವಸ್ತುಗಳು ಮತ್ತು ಘಟಕಗಳ ಕೊರತೆಯನ್ನು ಎದುರಿಸುತ್ತಿವೆ. ಕಾರಣ ಇಲ್ಲಿದೆ.\n",
      "\n",
      "ಇತ್ತೀಚಿನ ತಿಂಗಳುಗಳಲ್ಲಿ ಅನಿಲ ಮತ್ತು ವಿದ್ಯುತ್ ಬೆಲೆಗಳು ಮಾತ್ರ ಗಗನಕ್ಕೇರಿಲ್ಲ. ಪ್ರಪಂಚದಾದ್ಯಂತದ ಕಾರ್ಖಾನೆಗಳ ಉತ್ಪಾದನಾ ಮಾರ್ಗಗಳನ್ನು ಪೂರೈಸುವ ಅನೇಕ ಕಚ್ಚಾ ಸಾಮಗ್ರಿಗಳು ಮತ್ತು ಘಟಕಗಳ ವೆಚ್ಚವೂ ಹೆಚ್ಚುತ್ತಿದೆ, ಗ್ರಾಹಕ ಸರಕುಗಳ ಉತ್ಪಾದನೆ ಮತ್ತು ವಿತರಣೆಯನ್ನು ನಿಧಾನಗೊಳಿಸುತ್ತದೆ. Le Monde ಈ ಕೊರತೆಗಳ ಸ್ಟಾಕ್ ತೆಗೆದುಕೊಳ್ಳುತ್ತದೆ.\n",
      "\n",
      "ಕೊರತೆ ಎಂದರೇನು?\n",
      "ಒಂದು ಪ್ರದೇಶ ಅಥವಾ ಜನರ ಗುಂಪಿನ ಪ್ರಮಾಣದಲ್ಲಿ ಆಹಾರ ಅಥವಾ ಸರಕುಗಳ ಭಾಗಶಃ ಅಥವಾ ಸಂಪೂರ್ಣ ಕೊರತೆ ಇದ್ದಾಗ ನಾವು ಕೊರತೆಯ ಬಗ್ಗೆ ಮಾತನಾಡುತ್ತೇವೆ. ಆರ್ಥಿಕ ದೃಷ್ಟಿಕೋನದಿಂದ, ಕೊರತೆಯು ಸರಕುಗಳ ಬೇಡಿಕೆಯು ಪೂರೈಕೆಗಿಂತ ಹೆಚ್ಚಿರುವ ಸಮಯವನ್ನು ಸೂಚಿಸುತ್ತದೆ.\n",
      "\n",
      "ಇವುಗಳು ವಿವಿಧ ಕಾರಣಗಳನ್ನು ಹೊಂದಿರಬಹುದು, ಹವಾಮಾನ (ಕೆಟ್ಟ ಕೊಯ್ಲು), ರಾಜಕೀಯ (ಯುದ್ಧದ ಪರಿಸ್ಥಿತಿ, ದಿಗ್ಬಂಧನ), ಆರ್ಥಿಕ (ಸಾಕಷ್ಟು ಉತ್ಪಾದನೆಯಿಲ್ಲ) ಅಥವಾ ಸಂಪೂರ್ಣವಾಗಿ ಊಹಾತ್ಮಕ: ಒಂದು ಅಥವಾ ಹೆಚ್ಚಿನ ಉತ್ಪನ್ನಗಳ ಮೇಲೆ ವಿಪರೀತಕ್ಕೆ ಕಾರಣವಾಗುವ ಖಾಲಿಯಾಗುವ ಭಯ.\n",
      "\n",
      "ಕೋವಿಡ್ -19 ರ ಕಾರಣದಿಂದಾಗಿ ಆರೋಗ್ಯ ಬಿಕ್ಕಟ್ಟಿನ ಪ್ರಾರಂಭದಲ್ಲಿ, ಬಂಧನವು ತಿರುಳು ಅಥವಾ ಟಾಯ್ಲೆಟ್ ಪೇಪರ್ ಅನ್ನು ಖರೀದಿಸಲು ಉನ್ಮಾದವನ್ನು ಉಂಟುಮಾಡಿತು, ಇದು ಖಾಲಿ ಕಪಾಟಿನ ಚಿತ್ರಗಳಿಂದ ಎದ್ದು ಕಾಣುತ್ತದೆ, ಹೀಗಾಗಿ ಸೂಪರ್ಮಾರ್ಕೆಟ್ಗಳಲ್ಲಿ ಕೊರತೆಯನ್ನು ಸೃಷ್ಟಿಸಿತು.\n",
      "\n",
      "ಈಗ ಏಕೆ ಕೊರತೆಗಳಿವೆ?\n",
      "ಏಕೆಂದರೆ ಬೇಡಿಕೆಯು ನಿರೀಕ್ಷೆಗಿಂತ ಹೆಚ್ಚು ಬಲವಾಗಿ ಏರಿದೆ\n",
      "\n",
      "2020 ಮತ್ತು 2021 ರಲ್ಲಿ ಲಾಕ್‌ಡೌನ್‌ಗಳ ಸಮಯದಲ್ಲಿ ರಾಷ್ಟ್ರೀಯ ಆರ್ಥಿಕತೆಗಳ ಈ ಸಾಮಾನ್ಯೀಕೃತ ಮತ್ತು ಸತತ ಸ್ಥಗಿತದ ನಂತರ, ತಯಾರಿಸಿದ ಉತ್ಪನ್ನಗಳು ಮತ್ತು ಕಚ್ಚಾ ವಸ್ತುಗಳ ಬೇಡಿಕೆಯು ತೀವ್ರವಾಗಿ ಏರಿತು, ಬೇಡಿಕೆಗಿಂತ ಕಡಿಮೆ ಪೂರೈಕೆಗೆ ಸಂಬಂಧಿಸಿದಂತೆ ಉದ್ವಿಗ್ನತೆಯನ್ನು ಉಂಟುಮಾಡುತ್ತದೆ.\n",
      "\n",
      "ಕೆಳಗಿನ ಗ್ರಾಫ್ 2020 ರಿಂದ ಎದುರಾಗಿರುವ ಪೂರೈಕೆ ಕೊರತೆಗಳನ್ನು ಸ್ಪಷ್ಟವಾಗಿ ತೋರಿಸುತ್ತದೆ. ಮೊದಲ ಕಂಟೈನ್‌ಮೆಂಟ್‌ನ ಸಮಯದಲ್ಲಿ ಸೂಚ್ಯಂಕದ ಅತ್ಯಂತ ಕಡಿಮೆ ಮಟ್ಟವನ್ನು ತಲುಪಿದೆ. 2020 ರ ಬೇಸಿಗೆಯಲ್ಲಿ ಪೂರೈಕೆ ಸಮಯವನ್ನು ಸಂಕ್ಷಿಪ್ತವಾಗಿ ಕಡಿಮೆಗೊಳಿಸಲಾಯಿತು, ಇದು ಇಂದಿನವರೆಗೆ ದೀರ್ಘಾವಧಿಯವರೆಗೆ ಇರುತ್ತದೆ.\n"
     ]
    }
   ],
   "source": [
    "target_language_code = 'kn'\n",
    "\n",
    "responses = translate_client.translate(text_lines, target_language=target_language_code)\n",
    "\n",
    "with open('./results/kannada_translation.txt', 'w') as fstream:\n",
    "    for response in responses:\n",
    "        w_resposne = response.get('translatedText')\n",
    "        fstream.write(w_resposne + '\\n')\n",
    "        print(w_resposne)"
   ]
  },
  {
   "cell_type": "markdown",
   "id": "8d2a81c7-e986-459a-99fd-76e9921609b7",
   "metadata": {},
   "source": [
    " "
   ]
  },
  {
   "cell_type": "markdown",
   "id": "2303bda5-981a-4464-a92c-02e259519bcc",
   "metadata": {},
   "source": [
    "#### Translation to Hindi"
   ]
  },
  {
   "cell_type": "code",
   "execution_count": 64,
   "id": "5e75f3ea-e5f5-4cae-8326-a93a7c34051f",
   "metadata": {},
   "outputs": [
    {
     "name": "stdout",
     "output_type": "stream",
     "text": [
      "इलेक्ट्रॉनिक्स, लकड़ी, प्लास्टिक: दुनिया भर की कंपनियों को मांग को पूरा करने के लिए सामग्री और घटकों की कमी का सामना करना पड़ रहा है। यहाँ पर क्यों।\n",
      "\n",
      "हाल के महीनों में केवल गैस और बिजली की कीमतें ही नहीं बढ़ी हैं। दुनिया भर के कारखानों की उत्पादन लाइनों की आपूर्ति करने वाले कई कच्चे माल और घटकों की लागत भी बढ़ रही है, जिससे उपभोक्ता वस्तुओं का उत्पादन और वितरण धीमा हो रहा है। ले मोंडे इन कमियों का जायजा लेते हैं।\n",
      "\n",
      "कमी क्या है?\n",
      "हम कमी की बात करते हैं जब किसी क्षेत्र या लोगों के समूह के पैमाने पर भोजन या सामान की आंशिक या पूर्ण कमी होती है। आर्थिक दृष्टिकोण से, कमी उस समय को संदर्भित करती है जब किसी वस्तु की मांग आपूर्ति से अधिक होती है।\n",
      "\n",
      "इसके विभिन्न कारण हो सकते हैं, जलवायु (खराब फसल), राजनीतिक (युद्ध की स्थिति, नाकाबंदी), आर्थिक (अपर्याप्त उत्पादन) या यहां तक कि विशुद्ध रूप से सट्टा: एक या अधिक उत्पादों पर भीड़ के कारण बाहर निकलने का डर। ।\n",
      "\n",
      "कोविद -19 के कारण स्वास्थ्य संकट की शुरुआत में, कारावास ने लुगदी या टॉयलेट पेपर खरीदने के लिए एक उन्माद पैदा कर दिया, जो खाली अलमारियों की छवियों द्वारा उच्चारण किया गया था, इस प्रकार सुपरमार्केट में कमी पैदा कर रहा था।\n",
      "\n",
      "अब क्यों हैं कमी?\n",
      "क्योंकि मांग उम्मीद से कहीं ज्यादा मजबूती से उठा है\n",
      "\n",
      "2020 और 2021 में लॉकडाउन के दौरान राष्ट्रीय अर्थव्यवस्थाओं के इन सामान्यीकृत और क्रमिक बंद के बाद, विनिर्मित उत्पादों और कच्चे माल की मांग में तेजी से वृद्धि हुई, जिससे मांग से कम आपूर्ति के संबंध में तनाव पैदा हुआ।\n",
      "\n",
      "नीचे दिया गया ग्राफ स्पष्ट रूप से 2020 के बाद से आपूर्ति की कमी को दर्शाता है। सूचकांक के निम्नतम स्तर पर पहली बार नियंत्रण के समय पहुंच गया था। आज तक लंबे समय तक चलने से पहले, 2020 की गर्मियों में आपूर्ति के समय को कुछ समय के लिए छोटा कर दिया गया था।\n"
     ]
    }
   ],
   "source": [
    "target_language_code = 'hi'\n",
    "\n",
    "responses = translate_client.translate(text_lines, target_language=target_language_code)\n",
    "\n",
    "with open('./results/hindi_translation.txt', 'w') as fstream:\n",
    "    for response in responses:\n",
    "        w_resposne = response.get('translatedText')\n",
    "        fstream.write(w_resposne + '\\n')\n",
    "        print(w_resposne)\n",
    "        "
   ]
  },
  {
   "cell_type": "markdown",
   "id": "12e7c134-9247-41d5-ad33-139aec530dc2",
   "metadata": {},
   "source": [
    " "
   ]
  },
  {
   "cell_type": "markdown",
   "id": "b206efd6-8927-408f-a912-1b097686f69a",
   "metadata": {},
   "source": [
    "#### Translation to Japanese"
   ]
  },
  {
   "cell_type": "code",
   "execution_count": 65,
   "id": "eb04439f-8f42-4ed7-b2e9-b254c8fb6bff",
   "metadata": {},
   "outputs": [
    {
     "name": "stdout",
     "output_type": "stream",
     "text": [
      "エレクトロニクス、木材、プラスチック：世界中の企業は、需要を満たすための材料とコンポーネントの不足に直面しています。これが理由です。\n",
      "\n",
      "ここ数ヶ月で高騰しているのはガスと電気の価格だけではありません。世界中の工場の生産ラインに供給する多くの原材料や部品のコストも上昇しており、消費財の生産と配送が遅れています。ルモンドはこれらの不足を補います。\n",
      "\n",
      "不足とは何ですか？\n",
      "領土または人々のグループの規模で、食料または商品が部分的または全体的に不足している場合、私たちは不足について話します。経済的観点から、希少性とは、商品の需要が供給よりも大きい時期を指します。\n",
      "\n",
      "これらには、気候（不作）、政治（戦争状況、封鎖）、経済（不十分な生産）、さらには純粋に投機的なものなど、さまざまな原因が考えられます。\n",
      "\n",
      "Covid-19による健康危機の開始時に、閉じ込めはパルプまたはトイレットペーパーを購入する熱狂を引き起こし、それは空の棚のイメージによって強調され、スーパーマーケットで不足を引き起こしました。\n",
      "\n",
      "なぜ今不足しているのですか？\n",
      "需要が予想よりもはるかに強く回復したため\n",
      "\n",
      "2020年と2021年の封鎖中のこれらの一般的かつ連続的な国家経済の閉鎖の後、工業製品と原材料の需要は急激に増加し、需要を下回る供給に関して緊張を引き起こした。\n",
      "\n",
      "下のグラフは、2020年以降に発生した供給不足を明確に示しています。最初の封じ込めの時点で、インデックスの最低レベルに達しました。 2020年の夏に供給時間が一時的に短縮された後、今日まで長くなりました。\n"
     ]
    }
   ],
   "source": [
    "target_language_code = 'ja'\n",
    "\n",
    "responses = translate_client.translate(text_lines, target_language=target_language_code)\n",
    "\n",
    "with open('./results/japanese_translation.txt', 'w') as fstream:\n",
    "    for response in responses:\n",
    "        w_resposne = response.get('translatedText')\n",
    "        fstream.write(w_resposne + '\\n')\n",
    "        print(w_resposne)"
   ]
  },
  {
   "cell_type": "markdown",
   "id": "b951f026-0a06-4e9b-ade8-426dc38b360e",
   "metadata": {},
   "source": [
    " "
   ]
  },
  {
   "cell_type": "markdown",
   "id": "585d5198-e94a-4b59-a8e1-ea474debcc22",
   "metadata": {
    "tags": []
   },
   "source": [
    "#### A lot of languages are supported. We just have to provide the target language code. Refer this site to know the language code for a language:\n",
    "### http://www.mathguide.de/info/tools/languagecode.html"
   ]
  },
  {
   "cell_type": "code",
   "execution_count": null,
   "id": "ce0950b9-d03d-4aa9-9742-80edcaf4a899",
   "metadata": {},
   "outputs": [],
   "source": []
  }
 ],
 "metadata": {
  "environment": {
   "name": "tf2-gpu.2-6.m81",
   "type": "gcloud",
   "uri": "gcr.io/deeplearning-platform-release/tf2-gpu.2-6:m81"
  },
  "kernelspec": {
   "display_name": "Python 3",
   "language": "python",
   "name": "python3"
  },
  "language_info": {
   "codemirror_mode": {
    "name": "ipython",
    "version": 3
   },
   "file_extension": ".py",
   "mimetype": "text/x-python",
   "name": "python",
   "nbconvert_exporter": "python",
   "pygments_lexer": "ipython3",
   "version": "3.7.10"
  }
 },
 "nbformat": 4,
 "nbformat_minor": 5
}
