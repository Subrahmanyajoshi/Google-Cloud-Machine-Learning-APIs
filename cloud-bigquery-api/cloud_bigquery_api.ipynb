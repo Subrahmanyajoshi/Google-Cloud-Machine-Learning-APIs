{
 "cells": [
  {
   "cell_type": "code",
   "execution_count": 4,
   "id": "7feacccd-987e-429a-83b6-6966fa531f35",
   "metadata": {},
   "outputs": [],
   "source": [
    "import os\n",
    "\n",
    "from google.cloud import bigquery"
   ]
  },
  {
   "cell_type": "code",
   "execution_count": 5,
   "id": "9781db0e-ce7b-468e-93ef-f1ca6cee9921",
   "metadata": {},
   "outputs": [],
   "source": [
    "os.environ[\"PROJECT_ID\"] = \"text-analysis-323506\""
   ]
  },
  {
   "cell_type": "markdown",
   "id": "e9c95906-587b-4e69-8fec-3227276a5e57",
   "metadata": {},
   "source": [
    " "
   ]
  },
  {
   "cell_type": "markdown",
   "id": "29d85114-9748-444e-9618-98eec95c7506",
   "metadata": {},
   "source": [
    " "
   ]
  },
  {
   "cell_type": "markdown",
   "id": "87c0863d-19cf-440e-8fb7-295c548bbf5e",
   "metadata": {},
   "source": [
    "### Create a new Google Cloud service account to access the APIs programmatically."
   ]
  },
  {
   "cell_type": "markdown",
   "id": "0d3e4dfe-e28f-45d8-9ddd-a0b9c8207e72",
   "metadata": {},
   "source": [
    "__Don't run the following cell if you already have setup a cloud service account and have it's associated key__.\n",
    "\n",
    "Following command creates a Google Cloud Service account, which is required to access APIs. This command should be run only once. When ran for the first time, it create a service account, details of which can be found in IAM & Admin section of GCP console.\n",
    "\n",
    "After that, it creates a Google Cloud Service account key got the newly created account. Key is stored at /home/jupyter directory. Download this key. Upload it the next time when this notebook is to be run again. __Following cell should not be run more than once, unless we want to create a new cloud service account__."
   ]
  },
  {
   "cell_type": "code",
   "execution_count": null,
   "id": "569c6393-d4ae-4617-88b0-b832e421dce9",
   "metadata": {},
   "outputs": [],
   "source": [
    "%%bash\n",
    "\n",
    "# These should be run only once. These commands setup a cloud service account with required permissions to call APIs\n",
    "gcloud iam service-accounts create my-api-sa --display-name \"api account\"\n",
    "gcloud iam service-accounts keys create ~/key.json --iam-account my-api-sa@${PROJECT_ID}.iam.gserviceaccount.com"
   ]
  },
  {
   "cell_type": "markdown",
   "id": "f8ba5ff0-b58d-4ca6-b596-1b4b1090f1a6",
   "metadata": {},
   "source": [
    " "
   ]
  },
  {
   "cell_type": "markdown",
   "id": "db79307c-7a86-4087-897f-1b582d5e5f83",
   "metadata": {},
   "source": [
    " #### Open cloud shell and run the command given below.\n",
    " This command gives the permission to read/write into bigquery to service account\n",
    " \n",
    "```gcloud projects add-iam-policy-binding <GCP_PROJECT_ID> --member=serviceAccount:<GCP_Service_Account> --role=roles/bigquery.admin```\n",
    "\n",
    "__Example__:\n",
    "\n",
    "```gcloud projects add-iam-policy-binding text-analysis-323506 --member=serviceAccount:my-api-sa@text-analysis-323506.iam.gserviceaccount.com --role=roles/bigquery.admin```"
   ]
  },
  {
   "cell_type": "markdown",
   "id": "20d73f83-8840-49a5-b327-afb6de748f12",
   "metadata": {},
   "source": [
    " "
   ]
  },
  {
   "cell_type": "markdown",
   "id": "e7e14d3e-c135-4456-bbe5-cafc46a9d1b2",
   "metadata": {},
   "source": [
    " "
   ]
  },
  {
   "cell_type": "markdown",
   "id": "1948789d-8658-4042-bee9-376e01015c36",
   "metadata": {},
   "source": [
    "Following command stores path to json file in an environment variable. This is required to access API endpoints using python."
   ]
  },
  {
   "cell_type": "code",
   "execution_count": 6,
   "id": "204e8c85-831e-4675-9f01-0ebc6634cfbe",
   "metadata": {},
   "outputs": [],
   "source": [
    "os.environ[\"GOOGLE_APPLICATION_CREDENTIALS\"] = os.path.abspath(\"/home/jupyter/key.json\")"
   ]
  },
  {
   "cell_type": "markdown",
   "id": "59df9a0d-efff-45fb-b98c-621d6b548060",
   "metadata": {},
   "source": [
    "#### Create a Google Cloud bigquery api client object"
   ]
  },
  {
   "cell_type": "code",
   "execution_count": 7,
   "id": "6d73aacc-ce1f-4fa4-acdc-734cd5613b0f",
   "metadata": {},
   "outputs": [],
   "source": [
    "bq_client = bigquery.Client()"
   ]
  },
  {
   "cell_type": "markdown",
   "id": "9b7f334b-9587-46d1-9c0a-45124f8cef2f",
   "metadata": {},
   "source": [
    " "
   ]
  },
  {
   "cell_type": "markdown",
   "id": "d42d83af-16ea-44b7-9c80-a57bf9049557",
   "metadata": {},
   "source": [
    "### Important: \n",
    "#### Enable BigQuery API for this project in Google Cloud Platform console."
   ]
  },
  {
   "cell_type": "markdown",
   "id": "5ddac787-6b2d-47f4-a25e-f469c1a38b44",
   "metadata": {},
   "source": [
    " "
   ]
  },
  {
   "cell_type": "markdown",
   "id": "dcd5345c-df7e-4437-977e-830630d6f4c2",
   "metadata": {},
   "source": [
    "## Create dataset"
   ]
  },
  {
   "cell_type": "code",
   "execution_count": 54,
   "id": "2b79c113-5d87-4943-8d94-f26e26c5ac0b",
   "metadata": {},
   "outputs": [],
   "source": [
    "dataset = bigquery.Dataset('text-analysis-323506.iris_dataset')"
   ]
  },
  {
   "cell_type": "code",
   "execution_count": 55,
   "id": "8ea1e327-6fcd-41a8-89cd-5b1cb4844432",
   "metadata": {},
   "outputs": [],
   "source": [
    "dataset.location = \"us-east1\""
   ]
  },
  {
   "cell_type": "code",
   "execution_count": 56,
   "id": "a23fd521-2a9c-488a-bba9-f1daa808612f",
   "metadata": {},
   "outputs": [],
   "source": [
    "dataset = bq_client.create_dataset(dataset, timeout=30)"
   ]
  },
  {
   "cell_type": "code",
   "execution_count": 57,
   "id": "c104b6a7-57ae-4540-98d6-973bca17fac7",
   "metadata": {},
   "outputs": [
    {
     "name": "stdout",
     "output_type": "stream",
     "text": [
      "Created dataset text-analysis-323506.iris_dataset\n"
     ]
    }
   ],
   "source": [
    "print(f\"Created dataset {bq_client.project}.{dataset.dataset_id}\")"
   ]
  },
  {
   "cell_type": "markdown",
   "id": "0401fdeb-236b-4169-bab6-dcc0c8ca1639",
   "metadata": {},
   "source": [
    "#### New dataset can be seen at bigquery UI"
   ]
  },
  {
   "cell_type": "markdown",
   "id": "e1ceb6e1-3e01-4562-925d-90e413f6e951",
   "metadata": {},
   "source": [
    " "
   ]
  },
  {
   "cell_type": "markdown",
   "id": "d39428f6-5124-4706-8e99-b1e906d8210e",
   "metadata": {},
   "source": [
    "## Create Table"
   ]
  },
  {
   "cell_type": "markdown",
   "id": "a8f4dd5d-0f45-4a29-a6d9-85e7f24f6c16",
   "metadata": {},
   "source": [
    "BigQuery database is a managed SQL database. So before creating the table, we need to mention schema, just like how it's done in case od a plain SQL database"
   ]
  },
  {
   "cell_type": "code",
   "execution_count": 58,
   "id": "a7b3ccf4-e0cd-4b57-b09d-968979b4bb4b",
   "metadata": {},
   "outputs": [],
   "source": [
    "schema = [\n",
    "        bigquery.SchemaField(\"Id\", \"INTEGER\", mode=\"REQUIRED\"),\n",
    "        bigquery.SchemaField(\"SepalLengthCm\", \"FLOAT\", mode=\"REQUIRED\"),\n",
    "        bigquery.SchemaField(\"SepalWidthCm\", \"FLOAT\", mode=\"REQUIRED\"),\n",
    "        bigquery.SchemaField(\"PetalLengthCm\", \"FLOAT\", mode=\"REQUIRED\"),\n",
    "        bigquery.SchemaField(\"PetalWidthCm\", \"FLOAT\", mode=\"REQUIRED\"),\n",
    "        bigquery.SchemaField(\"Species\", \"STRING\", mode=\"REQUIRED\")\n",
    "    ]"
   ]
  },
  {
   "cell_type": "code",
   "execution_count": 59,
   "id": "f148940d-aa92-4c22-ba8a-db915104cda6",
   "metadata": {},
   "outputs": [],
   "source": [
    "table_id = 'text-analysis-323506.iris_dataset.iris_table'"
   ]
  },
  {
   "cell_type": "code",
   "execution_count": 60,
   "id": "5b497a99-fdcb-4b39-89fc-91e540863efc",
   "metadata": {},
   "outputs": [],
   "source": [
    "table = bigquery.Table(table_id, schema=schema)"
   ]
  },
  {
   "cell_type": "code",
   "execution_count": 61,
   "id": "3368c2fc-9d2e-45be-a0fb-f331d9815adc",
   "metadata": {},
   "outputs": [],
   "source": [
    "table = bq_client.create_table(table)"
   ]
  },
  {
   "cell_type": "code",
   "execution_count": 62,
   "id": "e6c90913-c28e-4206-a75f-51702040caef",
   "metadata": {},
   "outputs": [
    {
     "name": "stdout",
     "output_type": "stream",
     "text": [
      "Created table text-analysis-323506.iris_dataset.iris_table\n"
     ]
    }
   ],
   "source": [
    "print(f\"Created table {table.project}.{table.dataset_id}.{table.table_id}\")"
   ]
  },
  {
   "cell_type": "markdown",
   "id": "10455cc0-8e09-48c4-bb59-3b79b1f8beea",
   "metadata": {},
   "source": [
    " "
   ]
  },
  {
   "cell_type": "markdown",
   "id": "08792ee9-c73a-4fd6-a805-077c5dd2c0dc",
   "metadata": {},
   "source": [
    "## Load Data into BigQuery Table"
   ]
  },
  {
   "cell_type": "markdown",
   "id": "49f460a9-4357-4f81-b2af-706b35177b66",
   "metadata": {},
   "source": [
    "Csv files need to be in cloud storage for loading to work."
   ]
  },
  {
   "cell_type": "code",
   "execution_count": 63,
   "id": "e8cad0d9-f5d6-4db2-ada3-05e5e3af3d0d",
   "metadata": {},
   "outputs": [
    {
     "name": "stdout",
     "output_type": "stream",
     "text": [
      "Copying file://./data/Iris.csv [Content-Type=text/csv]...\n",
      "/ [1/1 files][  5.0 KiB/  5.0 KiB] 100% Done                                    \n",
      "Operation completed over 1 objects/5.0 KiB.                                      \n"
     ]
    }
   ],
   "source": [
    "! gsutil -m cp ./data/Iris.csv gs://text-analysis-323506/"
   ]
  },
  {
   "cell_type": "code",
   "execution_count": 64,
   "id": "162f7a29-4a31-4b87-bb11-fecc5e74ad5e",
   "metadata": {},
   "outputs": [],
   "source": [
    "job_config = bigquery.LoadJobConfig(\n",
    "    schema=schema,\n",
    "    skip_leading_rows=1,\n",
    "    # The source format defaults to CSV, so the line below is optional.\n",
    "    source_format=bigquery.SourceFormat.CSV,\n",
    "    # WRITE_TRUNCATE replaces existing data \n",
    "    write_disposition=bigquery.WriteDisposition.WRITE_APPEND\n",
    ")"
   ]
  },
  {
   "cell_type": "code",
   "execution_count": 65,
   "id": "c905c18a-ea1f-4606-9ce7-89f1a95b90a7",
   "metadata": {},
   "outputs": [
    {
     "data": {
      "text/plain": [
       "LoadJob<project=text-analysis-323506, location=us-east1, id=0afc3092-3a91-4f9f-83c6-ad575396a332>"
      ]
     },
     "execution_count": 65,
     "metadata": {},
     "output_type": "execute_result"
    }
   ],
   "source": [
    "uri = \"gs://text-analysis-323506/Iris.csv\"\n",
    "\n",
    "load_job = bq_client.load_table_from_uri(\n",
    "    uri, table_id, job_config=job_config, \n",
    ")\n",
    "\n",
    "load_job.result()  # Waits for the job to complete."
   ]
  },
  {
   "cell_type": "code",
   "execution_count": 66,
   "id": "5f2ea584-638d-4811-9b4c-e36762d05a76",
   "metadata": {},
   "outputs": [
    {
     "name": "stdout",
     "output_type": "stream",
     "text": [
      "Loaded 150 rows.\n"
     ]
    }
   ],
   "source": [
    "destination_table = bq_client.get_table(table_id)\n",
    "print(\"Loaded {} rows.\".format(destination_table.num_rows))"
   ]
  },
  {
   "cell_type": "markdown",
   "id": "5c4c9bf9-84c9-460d-a24b-d6535d538045",
   "metadata": {},
   "source": [
    "#### BigQuery UI shows all 150 rows loaded into the table"
   ]
  },
  {
   "cell_type": "markdown",
   "id": "2139cbc1-9438-4d18-9704-bf35437b56da",
   "metadata": {},
   "source": [
    " "
   ]
  },
  {
   "cell_type": "markdown",
   "id": "c4f18f20-a5e0-4a64-a0d9-22702bbe2128",
   "metadata": {},
   "source": [
    "## Run SQL Queries on data stored in the table"
   ]
  },
  {
   "cell_type": "markdown",
   "id": "4650201a-66f2-4890-857e-82aef667e961",
   "metadata": {},
   "source": [
    "A simple SQL query in the following cell finds the count of flowers in our dataset which have sepal length values between 5 cm and 6 cm."
   ]
  },
  {
   "cell_type": "code",
   "execution_count": 105,
   "id": "b27f56f7-2c05-42cc-abbc-9cbf15122e51",
   "metadata": {},
   "outputs": [],
   "source": [
    "query = \"\"\"\n",
    "        SELECT count(Species)\n",
    "        FROM `text-analysis-323506.iris_dataset.iris_table`\n",
    "        WHERE SepalLengthCm>5.0 AND SepalLengthCm<6.0\n",
    "    \"\"\""
   ]
  },
  {
   "cell_type": "code",
   "execution_count": 106,
   "id": "a51c6a52-38b1-4734-848b-c12624bca0fe",
   "metadata": {},
   "outputs": [],
   "source": [
    "# Make an API request\n",
    "results = bq_client.query(query)"
   ]
  },
  {
   "cell_type": "code",
   "execution_count": 107,
   "id": "94768460-cdde-4350-bdf3-ea5a535cfdbd",
   "metadata": {},
   "outputs": [],
   "source": [
    "# Proper way to access the rows in results\n",
    "\n",
    "# for row in results:\n",
    "#     print(row)"
   ]
  },
  {
   "cell_type": "code",
   "execution_count": 109,
   "id": "4b124fac-f249-4408-abf6-4ddcfe346d11",
   "metadata": {},
   "outputs": [
    {
     "name": "stdout",
     "output_type": "stream",
     "text": [
      "Number of flowers which have sepal length between 5.0 cm and 6.0 cm in our dataset: 51\n"
     ]
    }
   ],
   "source": [
    "print(f\"Number of flowers which have sepal length between 5.0 cm and 6.0 cm in our dataset: {list(results)[0][0]}\")"
   ]
  },
  {
   "cell_type": "markdown",
   "id": "b40ef05e-f406-4d5a-a124-3b394630e085",
   "metadata": {},
   "source": [
    "#### Any query can be run the same way above. No matter how complex it maybe is. API fetches us the results of the query."
   ]
  },
  {
   "cell_type": "markdown",
   "id": "a8b8c8f2-7c3b-45ca-9d93-a08f25b4b7d3",
   "metadata": {},
   "source": [
    " "
   ]
  },
  {
   "cell_type": "markdown",
   "id": "5180d1a1-b728-4ee9-a84d-58282ed68875",
   "metadata": {},
   "source": [
    "## Delete Tables"
   ]
  },
  {
   "cell_type": "code",
   "execution_count": 48,
   "id": "b5556b6a-ccf6-483d-932d-2ce7bda3a7d1",
   "metadata": {},
   "outputs": [],
   "source": [
    "table_id = 'text-analysis-323506.iris_dataset.iris_table'"
   ]
  },
  {
   "cell_type": "code",
   "execution_count": 50,
   "id": "54355179-4a95-42c3-bd82-4ced9ea5c7ad",
   "metadata": {},
   "outputs": [],
   "source": [
    "bq_client.delete_table(table_id, not_found_ok=True)"
   ]
  },
  {
   "cell_type": "markdown",
   "id": "1a326b9a-c9ea-4c1d-bdca-09132ecc7e56",
   "metadata": {},
   "source": [
    "#### BigQuery UI shows that the table has been deleted"
   ]
  },
  {
   "cell_type": "markdown",
   "id": "e0d4f963-30d3-41c5-b020-8b766155a461",
   "metadata": {},
   "source": [
    " "
   ]
  },
  {
   "cell_type": "markdown",
   "id": "c03f33e1-69e1-4662-b2fa-a376e8e6422d",
   "metadata": {},
   "source": [
    "## Delete Databases"
   ]
  },
  {
   "cell_type": "code",
   "execution_count": 51,
   "id": "02774d39-5fa4-4ebc-a594-20cec30ece55",
   "metadata": {},
   "outputs": [],
   "source": [
    "dataset_id = 'text-analysis-323506.iris_dataset'"
   ]
  },
  {
   "cell_type": "code",
   "execution_count": 53,
   "id": "3d9f7678-7188-4857-bd8c-37a83db85ae8",
   "metadata": {},
   "outputs": [],
   "source": [
    "bq_client.delete_dataset(dataset_id, delete_contents=True, not_found_ok=True)"
   ]
  },
  {
   "cell_type": "markdown",
   "id": "f609113a-8fc6-4cd5-b3f3-6c3cf7497b1f",
   "metadata": {},
   "source": [
    "#### BigQuery UI shows that the dataset has been deleted"
   ]
  },
  {
   "cell_type": "code",
   "execution_count": null,
   "id": "d08c870a-fe71-4e80-9d8a-4d6b1ab212e1",
   "metadata": {},
   "outputs": [],
   "source": []
  }
 ],
 "metadata": {
  "environment": {
   "kernel": "python3",
   "name": "tf2-gpu.2-6.m89",
   "type": "gcloud",
   "uri": "gcr.io/deeplearning-platform-release/tf2-gpu.2-6:m89"
  },
  "kernelspec": {
   "display_name": "Python 3",
   "language": "python",
   "name": "python3"
  },
  "language_info": {
   "codemirror_mode": {
    "name": "ipython",
    "version": 3
   },
   "file_extension": ".py",
   "mimetype": "text/x-python",
   "name": "python",
   "nbconvert_exporter": "python",
   "pygments_lexer": "ipython3",
   "version": "3.7.12"
  }
 },
 "nbformat": 4,
 "nbformat_minor": 5
}
