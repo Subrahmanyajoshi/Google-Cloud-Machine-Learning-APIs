{
 "cells": [
  {
   "cell_type": "code",
   "execution_count": 3,
   "id": "7feacccd-987e-429a-83b6-6966fa531f35",
   "metadata": {},
   "outputs": [],
   "source": [
    "import os\n",
    "\n",
    "from google.cloud import bigquery"
   ]
  },
  {
   "cell_type": "code",
   "execution_count": 4,
   "id": "9781db0e-ce7b-468e-93ef-f1ca6cee9921",
   "metadata": {},
   "outputs": [],
   "source": [
    "os.environ[\"PROJECT_ID\"] = \"text-analysis-323506\""
   ]
  },
  {
   "cell_type": "markdown",
   "id": "e9c95906-587b-4e69-8fec-3227276a5e57",
   "metadata": {},
   "source": [
    " "
   ]
  },
  {
   "cell_type": "markdown",
   "id": "29d85114-9748-444e-9618-98eec95c7506",
   "metadata": {},
   "source": [
    " "
   ]
  },
  {
   "cell_type": "markdown",
   "id": "87c0863d-19cf-440e-8fb7-295c548bbf5e",
   "metadata": {},
   "source": [
    "### Create a new Google Cloud service account to access the APIs programmatically."
   ]
  },
  {
   "cell_type": "markdown",
   "id": "0d3e4dfe-e28f-45d8-9ddd-a0b9c8207e72",
   "metadata": {},
   "source": [
    "__Don't run the following cell if you already have setup a cloud service account and have it's associated key__.\n",
    "\n",
    "Following command creates a Google Cloud Service account, which is required to access APIs. This command should be run only once. When ran for the first time, it create a service account, details of which can be found in IAM & Admin section of GCP console.\n",
    "\n",
    "After that, it creates a Google Cloud Service account key got the newly created account. Key is stored at /home/jupyter directory. Download this key. Upload it the next time when this notebook is to be run again. __Following cell should not be run more than once, unless we want to create a new cloud service account__."
   ]
  },
  {
   "cell_type": "code",
   "execution_count": null,
   "id": "569c6393-d4ae-4617-88b0-b832e421dce9",
   "metadata": {},
   "outputs": [],
   "source": [
    "%%bash\n",
    "\n",
    "# These should be run only once. These commands setup a cloud service account with required permissions to call APIs\n",
    "gcloud iam service-accounts create my-api-sa --display-name \"api account\"\n",
    "gcloud iam service-accounts keys create ~/key.json --iam-account my-api-sa@${PROJECT_ID}.iam.gserviceaccount.com"
   ]
  },
  {
   "cell_type": "markdown",
   "id": "f8ba5ff0-b58d-4ca6-b596-1b4b1090f1a6",
   "metadata": {},
   "source": [
    " "
   ]
  },
  {
   "cell_type": "markdown",
   "id": "db79307c-7a86-4087-897f-1b582d5e5f83",
   "metadata": {},
   "source": [
    " #### Open cloud shell and run the command given below.\n",
    " This command gives the permission to read/write into bigquery to service account\n",
    " \n",
    "```__gcloud projects add-iam-policy-binding <GCP_PROJECT_ID> --member=serviceAccount:<GCP_Service_Account> --role=roles/bigquery.admin__```\n",
    "\n",
    "__Example__:\n",
    "\n",
    "```gcloud projects add-iam-policy-binding text-analysis-323506 --member=serviceAccount:my-api-sa@text-analysis-323506.iam.gserviceaccount.com --role=roles/bigquery.admin```"
   ]
  },
  {
   "cell_type": "markdown",
   "id": "20d73f83-8840-49a5-b327-afb6de748f12",
   "metadata": {},
   "source": [
    " "
   ]
  },
  {
   "cell_type": "markdown",
   "id": "e7e14d3e-c135-4456-bbe5-cafc46a9d1b2",
   "metadata": {},
   "source": [
    " "
   ]
  },
  {
   "cell_type": "markdown",
   "id": "1948789d-8658-4042-bee9-376e01015c36",
   "metadata": {},
   "source": [
    "Following command stores path to json file in an environment variable. This is required to access API endpoints using python."
   ]
  },
  {
   "cell_type": "code",
   "execution_count": 6,
   "id": "204e8c85-831e-4675-9f01-0ebc6634cfbe",
   "metadata": {},
   "outputs": [],
   "source": [
    "os.environ[\"GOOGLE_APPLICATION_CREDENTIALS\"] = os.path.abspath(\"/home/jupyter/key.json\")"
   ]
  },
  {
   "cell_type": "markdown",
   "id": "59df9a0d-efff-45fb-b98c-621d6b548060",
   "metadata": {},
   "source": [
    "#### Create a Google Cloud bigquery api client object"
   ]
  },
  {
   "cell_type": "code",
   "execution_count": 7,
   "id": "6d73aacc-ce1f-4fa4-acdc-734cd5613b0f",
   "metadata": {},
   "outputs": [],
   "source": [
    "bq_client = bigquery.Client()"
   ]
  },
  {
   "cell_type": "markdown",
   "id": "9b7f334b-9587-46d1-9c0a-45124f8cef2f",
   "metadata": {},
   "source": [
    " "
   ]
  },
  {
   "cell_type": "markdown",
   "id": "d42d83af-16ea-44b7-9c80-a57bf9049557",
   "metadata": {},
   "source": [
    "### Important: \n",
    "#### Enable BigQuery API for this project in Google Cloud Platform console."
   ]
  },
  {
   "cell_type": "markdown",
   "id": "5ddac787-6b2d-47f4-a25e-f469c1a38b44",
   "metadata": {},
   "source": [
    " "
   ]
  },
  {
   "cell_type": "markdown",
   "id": "dcd5345c-df7e-4437-977e-830630d6f4c2",
   "metadata": {},
   "source": [
    " ### Create a dataset"
   ]
  },
  {
   "cell_type": "code",
   "execution_count": 17,
   "id": "2b79c113-5d87-4943-8d94-f26e26c5ac0b",
   "metadata": {},
   "outputs": [],
   "source": [
    "dataset = bigquery.Dataset('text-analysis-323506.iris_dataset')"
   ]
  },
  {
   "cell_type": "code",
   "execution_count": 18,
   "id": "8ea1e327-6fcd-41a8-89cd-5b1cb4844432",
   "metadata": {},
   "outputs": [],
   "source": [
    "dataset.location = \"us-east1\""
   ]
  },
  {
   "cell_type": "code",
   "execution_count": 19,
   "id": "a23fd521-2a9c-488a-bba9-f1daa808612f",
   "metadata": {},
   "outputs": [],
   "source": [
    "dataset = bq_client.create_dataset(dataset, timeout=30)"
   ]
  },
  {
   "cell_type": "code",
   "execution_count": 27,
   "id": "c104b6a7-57ae-4540-98d6-973bca17fac7",
   "metadata": {},
   "outputs": [
    {
     "name": "stdout",
     "output_type": "stream",
     "text": [
      "Created dataset text-analysis-323506.iris_dataset\n"
     ]
    }
   ],
   "source": [
    "print(f\"Created dataset {bq_client.project}.{dataset.dataset_id}\")"
   ]
  },
  {
   "cell_type": "markdown",
   "id": "0401fdeb-236b-4169-bab6-dcc0c8ca1639",
   "metadata": {},
   "source": [
    "#### New dataset can be seen at bigquery UI"
   ]
  },
  {
   "cell_type": "markdown",
   "id": "e1ceb6e1-3e01-4562-925d-90e413f6e951",
   "metadata": {},
   "source": [
    " "
   ]
  },
  {
   "cell_type": "markdown",
   "id": "d39428f6-5124-4706-8e99-b1e906d8210e",
   "metadata": {},
   "source": [
    "### Create Table"
   ]
  },
  {
   "cell_type": "markdown",
   "id": "a8f4dd5d-0f45-4a29-a6d9-85e7f24f6c16",
   "metadata": {},
   "source": [
    "BigQuery database is a managed SQL database. So before creating the table, we need to mention schema, just like how it's done in case od a plain SQL database"
   ]
  },
  {
   "cell_type": "code",
   "execution_count": 21,
   "id": "a7b3ccf4-e0cd-4b57-b09d-968979b4bb4b",
   "metadata": {},
   "outputs": [],
   "source": [
    "schema = [\n",
    "        bigquery.SchemaField(\"Id\", \"INTEGER\", mode=\"REQUIRED\"),\n",
    "        bigquery.SchemaField(\"SepalLengthCm\", \"FLOAT\", mode=\"REQUIRED\"),\n",
    "        bigquery.SchemaField(\"SepalWidthCm\", \"FLOAT\", mode=\"REQUIRED\"),\n",
    "        bigquery.SchemaField(\"PetalLengthCm\", \"FLOAT\", mode=\"REQUIRED\"),\n",
    "        bigquery.SchemaField(\"PetalWidthCm\", \"FLOAT\", mode=\"REQUIRED\"),\n",
    "        bigquery.SchemaField(\"Species\", \"STRING\", mode=\"REQUIRED\")\n",
    "    ]"
   ]
  },
  {
   "cell_type": "code",
   "execution_count": 22,
   "id": "f148940d-aa92-4c22-ba8a-db915104cda6",
   "metadata": {},
   "outputs": [],
   "source": [
    "table_id = 'text-analysis-323506.iris_dataset.iris_table'"
   ]
  },
  {
   "cell_type": "code",
   "execution_count": 23,
   "id": "5b497a99-fdcb-4b39-89fc-91e540863efc",
   "metadata": {},
   "outputs": [],
   "source": [
    "table = bigquery.Table(table_id, schema=schema)"
   ]
  },
  {
   "cell_type": "code",
   "execution_count": 25,
   "id": "3368c2fc-9d2e-45be-a0fb-f331d9815adc",
   "metadata": {},
   "outputs": [],
   "source": [
    "table = bq_client.create_table(table)"
   ]
  },
  {
   "cell_type": "code",
   "execution_count": 26,
   "id": "e6c90913-c28e-4206-a75f-51702040caef",
   "metadata": {},
   "outputs": [
    {
     "name": "stdout",
     "output_type": "stream",
     "text": [
      "Created table text-analysis-323506.iris_dataset.iris_table\n"
     ]
    }
   ],
   "source": [
    "print(f\"Created table {table.project}.{table.dataset_id}.{table.table_id}\")"
   ]
  },
  {
   "cell_type": "code",
   "execution_count": null,
   "id": "423b3e10-5788-48bd-a48d-83b24dca8e9a",
   "metadata": {},
   "outputs": [],
   "source": []
  }
 ],
 "metadata": {
  "environment": {
   "kernel": "python3",
   "name": "tf2-gpu.2-6.m82",
   "type": "gcloud",
   "uri": "gcr.io/deeplearning-platform-release/tf2-gpu.2-6:m82"
  },
  "kernelspec": {
   "display_name": "Python 3",
   "language": "python",
   "name": "python3"
  },
  "language_info": {
   "codemirror_mode": {
    "name": "ipython",
    "version": 3
   },
   "file_extension": ".py",
   "mimetype": "text/x-python",
   "name": "python",
   "nbconvert_exporter": "python",
   "pygments_lexer": "ipython3",
   "version": "3.7.10"
  }
 },
 "nbformat": 4,
 "nbformat_minor": 5
}
