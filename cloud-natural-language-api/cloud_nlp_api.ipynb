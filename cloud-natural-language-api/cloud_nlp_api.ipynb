{
 "cells": [
  {
   "cell_type": "code",
   "execution_count": 2,
   "id": "a9b4ad6e-756d-48c2-be73-99fe66f25516",
   "metadata": {},
   "outputs": [],
   "source": [
    "import os\n",
    "import io\n",
    "\n",
    "from google.cloud import language_v1"
   ]
  },
  {
   "cell_type": "code",
   "execution_count": 3,
   "id": "14aa267b-9a02-405d-bef3-39381570db6a",
   "metadata": {},
   "outputs": [],
   "source": [
    "os.environ[\"PROJECT_ID\"] = \"text-analysis-323506\""
   ]
  },
  {
   "cell_type": "markdown",
   "id": "acd924ea-98ae-45bc-847f-ca2838b2e5b5",
   "metadata": {},
   "source": [
    "#### Create a new Google Cloud service account to access the APIs programmatically."
   ]
  },
  {
   "cell_type": "markdown",
   "id": "b4a61b18-dc65-4280-b2bb-013d046e848d",
   "metadata": {},
   "source": [
    "##### Following command creates a Google Cloud Service account, which is required to access APIs. This command should be run only once. When ran for the first time, it create a service account, details of which can be found in IAM & Admin section of GCP console"
   ]
  },
  {
   "cell_type": "code",
   "execution_count": 3,
   "id": "8a7dca25-45a3-4758-91f5-01b214818b17",
   "metadata": {},
   "outputs": [
    {
     "name": "stderr",
     "output_type": "stream",
     "text": [
      "Created service account [my-api-sa].\n"
     ]
    }
   ],
   "source": [
    "%%bash\n",
    "\n",
    "# These should be run only once. These commands setup a cloud service account with required permissions to call APIs\n",
    "gcloud iam service-accounts create my-api-sa --display-name \"api account\""
   ]
  },
  {
   "cell_type": "markdown",
   "id": "1279c575-c934-42fb-a924-1875410d84d9",
   "metadata": {},
   "source": [
    "#### Bind permission to access files stored in GCS"
   ]
  },
  {
   "cell_type": "code",
   "execution_count": 4,
   "id": "8476b0ee-8ec5-4483-bf45-34d94fe46683",
   "metadata": {},
   "outputs": [
    {
     "name": "stderr",
     "output_type": "stream",
     "text": [
      "created key [62359fcf802aaaebf5be875b91db872945b7c83b] of type [json] as [/home/jupyter/key.json] for [my-api-sa@text-analysis-323506.iam.gserviceaccount.com]\n"
     ]
    }
   ],
   "source": [
    "%%bash\n",
    "\n",
    "gcloud iam service-accounts keys create ~/key.json --iam-account my-api-sa@${PROJECT_ID}.iam.gserviceaccount.com"
   ]
  },
  {
   "cell_type": "code",
   "execution_count": 27,
   "id": "6ec1cf75-7e0e-4521-a170-2d6ee2aa822d",
   "metadata": {},
   "outputs": [],
   "source": [
    "os.environ[\"GOOGLE_APPLICATION_CREDENTIALS\"] = os.path.abspath(\"/home/jupyter/key.json\")"
   ]
  },
  {
   "cell_type": "markdown",
   "id": "ce79baa0-6a5d-456f-9ff8-3c2a7eec12d6",
   "metadata": {},
   "source": [
    "#### Create a Google Cloud Natural Language api client object"
   ]
  },
  {
   "cell_type": "code",
   "execution_count": 28,
   "id": "efb8dc96-438d-4090-8ec4-b87c70220202",
   "metadata": {},
   "outputs": [],
   "source": [
    "language_client = language_v1.LanguageServiceClient()"
   ]
  },
  {
   "cell_type": "markdown",
   "id": "52755132-3eeb-4d1b-add5-3da7c93fab17",
   "metadata": {},
   "source": [
    " "
   ]
  },
  {
   "cell_type": "markdown",
   "id": "2f0db970-5c3a-497d-9cfb-6db400686878",
   "metadata": {},
   "source": [
    "### Important: \n",
    "#### Enable Cloud Natural Language API for this project in Google Cloud Platform console."
   ]
  },
  {
   "cell_type": "markdown",
   "id": "06fb739b-2ff2-4f09-bdc3-1c03998c0cef",
   "metadata": {},
   "source": [
    " "
   ]
  },
  {
   "cell_type": "markdown",
   "id": "a2117748-93e7-4ec4-9ab6-e1fb4b6e5270",
   "metadata": {},
   "source": [
    "## Entity Analysis "
   ]
  },
  {
   "cell_type": "markdown",
   "id": "c91350e1-0e7c-47c2-8dd6-440395752d03",
   "metadata": {},
   "source": [
    "Analyzes input text for known entities. (proper names and common nouns)"
   ]
  },
  {
   "cell_type": "code",
   "execution_count": 29,
   "id": "595b1670-a8cd-4541-9a10-5f9ab52250ed",
   "metadata": {},
   "outputs": [],
   "source": [
    "text = \"Google Cloud has wide range of APIs.\""
   ]
  },
  {
   "cell_type": "code",
   "execution_count": 30,
   "id": "dc4200ca-9481-4735-bfd9-f7356c6a1c98",
   "metadata": {},
   "outputs": [],
   "source": [
    "document = {'content': text, 'type_': language_v1.Document.Type.PLAIN_TEXT, 'language': 'en'}\n",
    "\n",
    "# If file is stored in GCS, storage admin role must be bound to service account. Creating document:\n",
    "# document = {\"gcs_content_uri\": 'gs://text-analysis-323506/document.txt', \"type_\": language_v1.Document.Type.PLAIN_TEXT, \"language\": 'en'}"
   ]
  },
  {
   "cell_type": "code",
   "execution_count": 31,
   "id": "eda20c4b-2fa1-4eb4-935c-6f8f795375b5",
   "metadata": {},
   "outputs": [],
   "source": [
    "response  = language_client.analyze_entities(request= {'document': document})"
   ]
  },
  {
   "cell_type": "markdown",
   "id": "f1b8d35f-5495-4a77-8ebc-d53c86698524",
   "metadata": {},
   "source": [
    "#### Dumping response to a text file"
   ]
  },
  {
   "cell_type": "code",
   "execution_count": 32,
   "id": "c848bd0b-30d5-46af-a8d2-bc2f6fbee180",
   "metadata": {},
   "outputs": [],
   "source": [
    "with open('./results/entity_analysis.txt', 'w') as fstream:\n",
    "    fstream.write(str(response))"
   ]
  },
  {
   "cell_type": "markdown",
   "id": "555bcecf-e72d-4d5d-b66c-29d9d3f46ccd",
   "metadata": {},
   "source": [
    "##### As it can be seen in result file, it even extracted wikipedia page for the phrase 'Google Cloud'"
   ]
  },
  {
   "cell_type": "markdown",
   "id": "be941d42-3ff1-4522-8aa8-553540af87ec",
   "metadata": {},
   "source": [
    " "
   ]
  },
  {
   "cell_type": "markdown",
   "id": "8a9b8f4f-5eb6-484c-9c02-a2f29034a0fc",
   "metadata": {},
   "source": [
    "## Sentiment Analysis"
   ]
  },
  {
   "cell_type": "markdown",
   "id": "d7ea1c81-35ee-489c-9513-d1f6a0550ac7",
   "metadata": {},
   "source": [
    "#### Positive Example"
   ]
  },
  {
   "cell_type": "code",
   "execution_count": 33,
   "id": "5a1a659d-7351-4d54-aed3-512a1a555929",
   "metadata": {},
   "outputs": [],
   "source": [
    "# input text\n",
    "text = \"This movie is so good. Loved every second of it !!\""
   ]
  },
  {
   "cell_type": "code",
   "execution_count": 34,
   "id": "d0ab85d4-eba8-4117-b899-4847e6a8e22b",
   "metadata": {},
   "outputs": [],
   "source": [
    "document = {'content': text, 'type_': language_v1.Document.Type.PLAIN_TEXT, 'language': 'en'}\n",
    "\n",
    "# If file is stored in GCS, storage admin role must be bound to service account. Creating document:\n",
    "# document = {\"gcs_content_uri\": 'gs://text-analysis-323506/document.txt', \"type_\": language_v1.Document.Type.PLAIN_TEXT, \"language\": 'en'}"
   ]
  },
  {
   "cell_type": "code",
   "execution_count": 35,
   "id": "956a9267-260d-45ee-956c-465ffa383fbc",
   "metadata": {},
   "outputs": [],
   "source": [
    "response  = language_client.analyze_sentiment(request= {'document': document})"
   ]
  },
  {
   "cell_type": "code",
   "execution_count": 36,
   "id": "6136646f-0c77-4a5b-b9f4-3ee068e931eb",
   "metadata": {},
   "outputs": [
    {
     "data": {
      "text/plain": [
       "magnitude: 1.899999976158142\n",
       "score: 0.8999999761581421"
      ]
     },
     "execution_count": 36,
     "metadata": {},
     "output_type": "execute_result"
    }
   ],
   "source": [
    "# Document Sentiment\n",
    "response.document_sentiment"
   ]
  },
  {
   "cell_type": "markdown",
   "id": "7e3dc7ef-ada6-4c72-b869-f2a94594b3f9",
   "metadata": {},
   "source": [
    "The score shows that the input text has a much positive sentiment. (Towards +1)"
   ]
  },
  {
   "cell_type": "code",
   "execution_count": 37,
   "id": "27d676f0-bc2c-4c57-8855-4611fb682ff2",
   "metadata": {},
   "outputs": [
    {
     "name": "stdout",
     "output_type": "stream",
     "text": [
      "Text: \n",
      "This movie is so good.\n",
      "Sentiment: \n",
      "magnitude: 0.8999999761581421\n",
      "score: 0.8999999761581421\n",
      "\n",
      "Text: \n",
      "Loved every second of it !!\n",
      "Sentiment: \n",
      "magnitude: 0.8999999761581421\n",
      "score: 0.8999999761581421\n",
      "\n"
     ]
    }
   ],
   "source": [
    "# Sentiments for each sentence in the input text\n",
    "for sentence in response.sentences:\n",
    "    print(\"Text: \")\n",
    "    print(sentence.text.content)\n",
    "    print(\"Sentiment: \")\n",
    "    print(sentence.sentiment)"
   ]
  },
  {
   "cell_type": "markdown",
   "id": "30c05f44-3feb-47fa-9f57-33c5ef061cbb",
   "metadata": {},
   "source": [
    "#### Dumping response to a text file"
   ]
  },
  {
   "cell_type": "code",
   "execution_count": 38,
   "id": "83f9439a-5ceb-40a7-9a18-319fa9c02dc3",
   "metadata": {},
   "outputs": [],
   "source": [
    "with open('./results/sentiment_analysis_positive.txt', 'w') as fstream:\n",
    "    fstream.write(str(response))"
   ]
  },
  {
   "cell_type": "markdown",
   "id": "6b113b26-528a-4125-b59b-866d41c7d9c6",
   "metadata": {},
   "source": [
    "#### Negative Example"
   ]
  },
  {
   "cell_type": "code",
   "execution_count": 39,
   "id": "204ef597-b9c9-40cd-a45f-a2d3bc1f347b",
   "metadata": {},
   "outputs": [],
   "source": [
    "# input text\n",
    "text = \"One of the worst movies ever!!. Please don't waste your time watching it..\""
   ]
  },
  {
   "cell_type": "code",
   "execution_count": 40,
   "id": "61894c06-fc08-4f61-9f4f-6f13f9181dcc",
   "metadata": {},
   "outputs": [],
   "source": [
    "document = {'content': text, 'type_': language_v1.Document.Type.PLAIN_TEXT, 'language': 'en'}\n",
    "\n",
    "# If file is stored in GCS, storage admin role must be bound to service account. Creating document:\n",
    "# document = {\"gcs_content_uri\": 'gs://text-analysis-323506/document.txt', \"type_\": language_v1.Document.Type.PLAIN_TEXT, \"language\": 'en'}"
   ]
  },
  {
   "cell_type": "code",
   "execution_count": 41,
   "id": "776afa13-cca2-454b-8e8c-078078e2199a",
   "metadata": {},
   "outputs": [],
   "source": [
    "response  = language_client.analyze_sentiment(request= {'document': document})"
   ]
  },
  {
   "cell_type": "code",
   "execution_count": 42,
   "id": "04ea00cf-03e3-4771-b0ae-6683dc776564",
   "metadata": {},
   "outputs": [
    {
     "data": {
      "text/plain": [
       "magnitude: 1.5\n",
       "score: -0.699999988079071"
      ]
     },
     "execution_count": 42,
     "metadata": {},
     "output_type": "execute_result"
    }
   ],
   "source": [
    "# Document Sentiment\n",
    "response.document_sentiment"
   ]
  },
  {
   "cell_type": "markdown",
   "id": "72076fd8-f8b5-4bbf-9ba9-6bdc4bfdbb14",
   "metadata": {},
   "source": [
    "The score shows that the input text has a much negative sentiment. (Towards -1)"
   ]
  },
  {
   "cell_type": "code",
   "execution_count": 43,
   "id": "07aafd50-6199-42b3-a161-a5315f76c40b",
   "metadata": {},
   "outputs": [
    {
     "name": "stdout",
     "output_type": "stream",
     "text": [
      "Text: \n",
      "One of the worst movies ever!!.\n",
      "Sentiment: \n",
      "magnitude: 0.800000011920929\n",
      "score: -0.800000011920929\n",
      "\n",
      "Text: \n",
      "Please don't waste your time watching it..\n",
      "Sentiment: \n",
      "magnitude: 0.699999988079071\n",
      "score: -0.699999988079071\n",
      "\n"
     ]
    }
   ],
   "source": [
    "# Sentiments for each sentence in the input text\n",
    "for sentence in response.sentences:\n",
    "    print(\"Text: \")\n",
    "    print(sentence.text.content)\n",
    "    print(\"Sentiment: \")\n",
    "    print(sentence.sentiment)"
   ]
  },
  {
   "cell_type": "markdown",
   "id": "47ebbd0e-9cd5-4d7f-8512-66e7d1e1c9d2",
   "metadata": {},
   "source": [
    "#### Dumping response to a text file"
   ]
  },
  {
   "cell_type": "code",
   "execution_count": 44,
   "id": "f927327d-00b6-49b5-bd5b-2131636c171c",
   "metadata": {},
   "outputs": [],
   "source": [
    "with open('./results/sentiment_analysis_negative.txt', 'w') as fstream:\n",
    "    fstream.write(str(response))"
   ]
  },
  {
   "cell_type": "markdown",
   "id": "97592275-4609-4b6a-9969-4ea408b7f50b",
   "metadata": {},
   "source": [
    " "
   ]
  },
  {
   "cell_type": "markdown",
   "id": "7b7271a7-b3b8-4b57-8288-2f15d91bf838",
   "metadata": {},
   "source": [
    "## Syntaxt Analysis"
   ]
  },
  {
   "cell_type": "markdown",
   "id": "f71f2b6b-4973-40ef-8bbe-6d053a5cdf24",
   "metadata": {},
   "source": [
    "Analyzes the syntax of the text and provides sentence boundaries and tokenization along with part of speech tags, dependency trees, and other properties."
   ]
  },
  {
   "cell_type": "code",
   "execution_count": 45,
   "id": "db4a2cb5-5fdb-450c-8756-aadc05bb6f4f",
   "metadata": {},
   "outputs": [],
   "source": [
    "text = \"Google Cloud has wide range of APIs.\""
   ]
  },
  {
   "cell_type": "code",
   "execution_count": 46,
   "id": "cded7eb7-fc19-4411-994a-c0a754af25ed",
   "metadata": {},
   "outputs": [],
   "source": [
    "document = {'content': text, 'type_': language_v1.Document.Type.PLAIN_TEXT, 'language': 'en'}\n",
    "\n",
    "# If file is stored in GCS, storage admin role must be bound to service account. Creating document:\n",
    "# document = {\"gcs_content_uri\": 'gs://text-analysis-323506/document.txt', \"type_\": language_v1.Document.Type.PLAIN_TEXT, \"language\": 'en'}"
   ]
  },
  {
   "cell_type": "code",
   "execution_count": 47,
   "id": "310863b2-d45b-4e65-90fb-271493c6cbb0",
   "metadata": {},
   "outputs": [],
   "source": [
    "response  = language_client.analyze_syntax(request= {'document': document})"
   ]
  },
  {
   "cell_type": "markdown",
   "id": "3f9f0c06-c74e-4ef7-b775-05ee81e4af77",
   "metadata": {},
   "source": [
    "#### Dumping response to a text file"
   ]
  },
  {
   "cell_type": "code",
   "execution_count": 58,
   "id": "530f7b5a-30df-491b-8cdc-4f6ba3df4ee1",
   "metadata": {},
   "outputs": [],
   "source": [
    "with open('./results/syntax_analysis.txt', 'w') as fstream:\n",
    "    fstream.write(str(response))"
   ]
  },
  {
   "cell_type": "markdown",
   "id": "a3214eae-ae73-4888-b703-e699e44db373",
   "metadata": {},
   "source": [
    " "
   ]
  },
  {
   "cell_type": "markdown",
   "id": "508d9548-a4db-4d06-a9b4-b86322dc9884",
   "metadata": {},
   "source": [
    "## Text Classification"
   ]
  },
  {
   "cell_type": "markdown",
   "id": "9b51ca62-ae5f-4af9-9b39-a66219fcb273",
   "metadata": {},
   "source": [
    "classifies text into different classes"
   ]
  },
  {
   "cell_type": "markdown",
   "id": "1624ccda-fb35-442a-8169-7bdb871eca32",
   "metadata": {},
   "source": [
    "Example 1:"
   ]
  },
  {
   "cell_type": "code",
   "execution_count": 49,
   "id": "f2585740-3695-4dad-ad73-0b72f30bbdc4",
   "metadata": {},
   "outputs": [],
   "source": [
    "text = \"China has started shutting down schools, cancelling hundreds of flights and ramping up mass testings following a new outbreak of Covid-19\""
   ]
  },
  {
   "cell_type": "code",
   "execution_count": 50,
   "id": "5b675200-ca4f-4f14-9c7a-448df26613da",
   "metadata": {},
   "outputs": [],
   "source": [
    "document = {'content': text, 'type_': language_v1.Document.Type.PLAIN_TEXT, 'language': 'en'}\n",
    "\n",
    "# If file is stored in GCS, storage admin role must be bound to service account. Creating document:\n",
    "# document = {\"gcs_content_uri\": 'gs://text-analysis-323506/document.txt', \"type_\": language_v1.Document.Type.PLAIN_TEXT, \"language\": 'en'}"
   ]
  },
  {
   "cell_type": "code",
   "execution_count": 51,
   "id": "18e9532a-f0c1-44ad-8b17-3ded8a45513e",
   "metadata": {},
   "outputs": [],
   "source": [
    "response = language_client.classify_text(request= {'document': document})"
   ]
  },
  {
   "cell_type": "code",
   "execution_count": 52,
   "id": "5d47f6f5-32c5-4e77-bf7e-c96dc5434805",
   "metadata": {},
   "outputs": [
    {
     "data": {
      "text/plain": [
       "categories {\n",
       "  name: \"/Travel/Air Travel\"\n",
       "  confidence: 0.8999999761581421\n",
       "}"
      ]
     },
     "execution_count": 52,
     "metadata": {},
     "output_type": "execute_result"
    }
   ],
   "source": [
    "response"
   ]
  },
  {
   "cell_type": "markdown",
   "id": "66d82a25-61c5-4261-a51b-cf63f56ad4b7",
   "metadata": {},
   "source": [
    "Example 2:"
   ]
  },
  {
   "cell_type": "code",
   "execution_count": 53,
   "id": "10eb861f-46c9-40f3-a74e-1d35dc1ca73a",
   "metadata": {},
   "outputs": [],
   "source": [
    "text = \"Mangoes are one of the tastiest fruits out there. I mean, who doesn't like mangoes?. There are a lot of different types of mangoes. Each \\\n",
    "        of them look and taste different.\""
   ]
  },
  {
   "cell_type": "code",
   "execution_count": 54,
   "id": "8da354b8-d5b2-4a09-a4ee-3329febfc549",
   "metadata": {},
   "outputs": [],
   "source": [
    "document = {'content': text, 'type_': language_v1.Document.Type.PLAIN_TEXT, 'language': 'en'}"
   ]
  },
  {
   "cell_type": "code",
   "execution_count": 55,
   "id": "5b9a5d00-99ae-43e1-925e-853e775b2ee0",
   "metadata": {},
   "outputs": [],
   "source": [
    "response = language_client.classify_text(request= {'document': document})"
   ]
  },
  {
   "cell_type": "code",
   "execution_count": 56,
   "id": "d9cb7fd5-decd-464e-803c-c0b671429a03",
   "metadata": {},
   "outputs": [
    {
     "data": {
      "text/plain": [
       "categories {\n",
       "  name: \"/Food & Drink/Food\"\n",
       "  confidence: 0.9800000190734863\n",
       "}"
      ]
     },
     "execution_count": 56,
     "metadata": {},
     "output_type": "execute_result"
    }
   ],
   "source": [
    "response"
   ]
  },
  {
   "cell_type": "markdown",
   "id": "19e808b0-4322-4240-9420-680b4e3aba13",
   "metadata": {},
   "source": [
    "#### Dumping response into a text file"
   ]
  },
  {
   "cell_type": "code",
   "execution_count": 57,
   "id": "935aff81-d575-466b-9427-4907b3dd80ee",
   "metadata": {},
   "outputs": [],
   "source": [
    "with open('./results/text_classification.txt', 'w') as fstream:\n",
    "    fstream.write(str(response))"
   ]
  },
  {
   "cell_type": "markdown",
   "id": "8f7adfd8-9071-4804-9a9d-c5e62d940554",
   "metadata": {},
   "source": [
    " "
   ]
  },
  {
   "cell_type": "code",
   "execution_count": null,
   "id": "5bfc3a25-2f33-462d-b2aa-3468480d62f1",
   "metadata": {},
   "outputs": [],
   "source": []
  }
 ],
 "metadata": {
  "environment": {
   "name": "tf2-gpu.2-6.m81",
   "type": "gcloud",
   "uri": "gcr.io/deeplearning-platform-release/tf2-gpu.2-6:m81"
  },
  "kernelspec": {
   "display_name": "Python 3",
   "language": "python",
   "name": "python3"
  },
  "language_info": {
   "codemirror_mode": {
    "name": "ipython",
    "version": 3
   },
   "file_extension": ".py",
   "mimetype": "text/x-python",
   "name": "python",
   "nbconvert_exporter": "python",
   "pygments_lexer": "ipython3",
   "version": "3.7.10"
  }
 },
 "nbformat": 4,
 "nbformat_minor": 5
}
