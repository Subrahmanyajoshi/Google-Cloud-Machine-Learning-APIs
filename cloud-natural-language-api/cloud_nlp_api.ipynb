{
 "cells": [
  {
   "cell_type": "code",
   "execution_count": 16,
   "id": "a9b4ad6e-756d-48c2-be73-99fe66f25516",
   "metadata": {},
   "outputs": [],
   "source": [
    "import os\n",
    "import io\n",
    "\n",
    "from google.cloud import language_v1"
   ]
  },
  {
   "cell_type": "code",
   "execution_count": 2,
   "id": "14aa267b-9a02-405d-bef3-39381570db6a",
   "metadata": {},
   "outputs": [],
   "source": [
    "os.environ[\"PROJECT_ID\"] = \"text-analysis-323506\""
   ]
  },
  {
   "cell_type": "markdown",
   "id": "acd924ea-98ae-45bc-847f-ca2838b2e5b5",
   "metadata": {},
   "source": [
    "#### Create a new Google Cloud service account to access the APIs programmatically."
   ]
  },
  {
   "cell_type": "markdown",
   "id": "b4a61b18-dc65-4280-b2bb-013d046e848d",
   "metadata": {},
   "source": [
    "##### Following command creates a Google Cloud Service account, which is required to access APIs. This command should be run only once. When ran for the first time, it create a service account, details of which can be found in IAM & Admin section of GCP console"
   ]
  },
  {
   "cell_type": "code",
   "execution_count": 3,
   "id": "8a7dca25-45a3-4758-91f5-01b214818b17",
   "metadata": {},
   "outputs": [
    {
     "name": "stderr",
     "output_type": "stream",
     "text": [
      "Created service account [my-api-sa].\n"
     ]
    }
   ],
   "source": [
    "%%bash\n",
    "\n",
    "# These should be run only once. These commands setup a cloud service account with required permissions to call APIs\n",
    "gcloud iam service-accounts create my-api-sa --display-name \"api account\""
   ]
  },
  {
   "cell_type": "code",
   "execution_count": 4,
   "id": "8476b0ee-8ec5-4483-bf45-34d94fe46683",
   "metadata": {},
   "outputs": [
    {
     "name": "stderr",
     "output_type": "stream",
     "text": [
      "created key [bc09206ff653187d2d829e8841f35339c1035552] of type [json] as [/home/jupyter/key.json] for [my-api-sa@text-analysis-323506.iam.gserviceaccount.com]\n"
     ]
    }
   ],
   "source": [
    "%%bash\n",
    "\n",
    "gcloud iam service-accounts keys create ~/key.json --iam-account my-api-sa@${PROJECT_ID}.iam.gserviceaccount.com"
   ]
  },
  {
   "cell_type": "code",
   "execution_count": 5,
   "id": "6ec1cf75-7e0e-4521-a170-2d6ee2aa822d",
   "metadata": {},
   "outputs": [],
   "source": [
    "os.environ[\"GOOGLE_APPLICATION_CREDENTIALS\"] = os.path.abspath(\"/home/jupyter/key.json\")"
   ]
  },
  {
   "cell_type": "markdown",
   "id": "ce79baa0-6a5d-456f-9ff8-3c2a7eec12d6",
   "metadata": {},
   "source": [
    "#### Create a Google Cloud Natural Language api client object"
   ]
  },
  {
   "cell_type": "code",
   "execution_count": 19,
   "id": "efb8dc96-438d-4090-8ec4-b87c70220202",
   "metadata": {},
   "outputs": [],
   "source": [
    "language_client = language_v1.LanguageServiceClient()"
   ]
  },
  {
   "cell_type": "markdown",
   "id": "52755132-3eeb-4d1b-add5-3da7c93fab17",
   "metadata": {},
   "source": [
    " "
   ]
  },
  {
   "cell_type": "markdown",
   "id": "a2117748-93e7-4ec4-9ab6-e1fb4b6e5270",
   "metadata": {},
   "source": [
    "## Analyze Entities"
   ]
  },
  {
   "cell_type": "markdown",
   "id": "c91350e1-0e7c-47c2-8dd6-440395752d03",
   "metadata": {},
   "source": [
    "Analyzes input text for known entities. (proper nouns such as public figures, landmarks, softwares etc)"
   ]
  },
  {
   "cell_type": "code",
   "execution_count": 54,
   "id": "595b1670-a8cd-4541-9a10-5f9ab52250ed",
   "metadata": {},
   "outputs": [],
   "source": [
    "text = \"This repository shows how to use Google Cloud's wide range of machine learning APIs programmatically using python.\""
   ]
  },
  {
   "cell_type": "code",
   "execution_count": 55,
   "id": "dc4200ca-9481-4735-bfd9-f7356c6a1c98",
   "metadata": {},
   "outputs": [],
   "source": [
    "document = {'content': text, 'type_': language_v1.Document.Type.PLAIN_TEXT, 'language': 'en'}"
   ]
  },
  {
   "cell_type": "code",
   "execution_count": 56,
   "id": "eda20c4b-2fa1-4eb4-935c-6f8f795375b5",
   "metadata": {},
   "outputs": [],
   "source": [
    "response  = language_client.analyze_entities(request= {'document': document})"
   ]
  },
  {
   "cell_type": "code",
   "execution_count": 57,
   "id": "917a0f31-147d-467e-adcd-723b90614ffa",
   "metadata": {},
   "outputs": [
    {
     "data": {
      "text/plain": [
       "entities {\n",
       "  name: \"repository\"\n",
       "  type_: OTHER\n",
       "  salience: 0.5336961150169373\n",
       "  mentions {\n",
       "    text {\n",
       "      content: \"repository\"\n",
       "      begin_offset: -1\n",
       "    }\n",
       "    type_: COMMON\n",
       "  }\n",
       "}\n",
       "entities {\n",
       "  name: \"range\"\n",
       "  type_: OTHER\n",
       "  salience: 0.18231292068958282\n",
       "  mentions {\n",
       "    text {\n",
       "      content: \"range\"\n",
       "      begin_offset: -1\n",
       "    }\n",
       "    type_: COMMON\n",
       "  }\n",
       "}\n",
       "entities {\n",
       "  name: \"Google Cloud\"\n",
       "  type_: OTHER\n",
       "  metadata {\n",
       "    key: \"mid\"\n",
       "    value: \"/m/0105pbj4\"\n",
       "  }\n",
       "  metadata {\n",
       "    key: \"wikipedia_url\"\n",
       "    value: \"https://en.wikipedia.org/wiki/Google_Cloud_Platform\"\n",
       "  }\n",
       "  salience: 0.11941418796777725\n",
       "  mentions {\n",
       "    text {\n",
       "      content: \"Google Cloud\"\n",
       "      begin_offset: -1\n",
       "    }\n",
       "    type_: PROPER\n",
       "  }\n",
       "}\n",
       "entities {\n",
       "  name: \"python\"\n",
       "  type_: OTHER\n",
       "  salience: 0.10102204978466034\n",
       "  mentions {\n",
       "    text {\n",
       "      content: \"python\"\n",
       "      begin_offset: -1\n",
       "    }\n",
       "    type_: COMMON\n",
       "  }\n",
       "}\n",
       "entities {\n",
       "  name: \"machine learning APIs\"\n",
       "  type_: CONSUMER_GOOD\n",
       "  salience: 0.06355475634336472\n",
       "  mentions {\n",
       "    text {\n",
       "      content: \"machine learning APIs\"\n",
       "      begin_offset: -1\n",
       "    }\n",
       "    type_: COMMON\n",
       "  }\n",
       "}\n",
       "language: \"en\""
      ]
     },
     "execution_count": 57,
     "metadata": {},
     "output_type": "execute_result"
    }
   ],
   "source": [
    "response"
   ]
  },
  {
   "cell_type": "markdown",
   "id": "555bcecf-e72d-4d5d-b66c-29d9d3f46ccd",
   "metadata": {},
   "source": [
    "##### As it can be seen, it even extracted wikipedia page for the phrase 'Google Cloud'"
   ]
  },
  {
   "cell_type": "markdown",
   "id": "be941d42-3ff1-4522-8aa8-553540af87ec",
   "metadata": {},
   "source": [
    " "
   ]
  },
  {
   "cell_type": "code",
   "execution_count": null,
   "id": "b4105472-28e1-4d22-a78f-7a18f922d4a8",
   "metadata": {},
   "outputs": [],
   "source": []
  }
 ],
 "metadata": {
  "environment": {
   "name": "tf2-gpu.2-6.m81",
   "type": "gcloud",
   "uri": "gcr.io/deeplearning-platform-release/tf2-gpu.2-6:m81"
  },
  "kernelspec": {
   "display_name": "Python 3",
   "language": "python",
   "name": "python3"
  },
  "language_info": {
   "codemirror_mode": {
    "name": "ipython",
    "version": 3
   },
   "file_extension": ".py",
   "mimetype": "text/x-python",
   "name": "python",
   "nbconvert_exporter": "python",
   "pygments_lexer": "ipython3",
   "version": "3.7.10"
  }
 },
 "nbformat": 4,
 "nbformat_minor": 5
}
