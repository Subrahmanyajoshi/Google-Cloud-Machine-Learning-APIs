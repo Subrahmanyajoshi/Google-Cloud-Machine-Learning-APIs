{
 "cells": [
  {
   "cell_type": "code",
   "execution_count": 49,
   "id": "1d8991f9-cc0f-4a8c-aa83-f9cbabda65a3",
   "metadata": {},
   "outputs": [],
   "source": [
    "import os\n",
    "import io\n",
    "\n",
    "from google.cloud import vision"
   ]
  },
  {
   "cell_type": "code",
   "execution_count": 38,
   "id": "ff12a4a5-b449-42d7-8edf-d732aec65160",
   "metadata": {},
   "outputs": [],
   "source": [
    "os.environ[\"PROJECT_ID\"] = \"text-analysis-323506\""
   ]
  },
  {
   "cell_type": "code",
   "execution_count": 39,
   "id": "0e9c9edc-d111-4fc0-bd32-ff2b626bbe42",
   "metadata": {},
   "outputs": [
    {
     "name": "stderr",
     "output_type": "stream",
     "text": [
      "ERROR: (gcloud.iam.service-accounts.create) Resource in projects [text-analysis-323506] is the subject of a conflict: Service account my-vision-sa already exists within project projects/text-analysis-323506.\n",
      "- '@type': type.googleapis.com/google.rpc.ResourceInfo\n",
      "  resourceName: projects/text-analysis-323506/serviceAccounts/my-vision-sa@text-analysis-323506.iam.gserviceaccount.com\n",
      "created key [0ef42885dee5227562141472bf5a3f4c23d54b2b] of type [json] as [/home/jupyter/key.json] for [my-vision-sa@text-analysis-323506.iam.gserviceaccount.com]\n"
     ]
    }
   ],
   "source": [
    "%%bash\n",
    "\n",
    "gcloud iam service-accounts create my-vision-sa --display-name \"vision api account\"\n",
    "gcloud iam service-accounts keys create ~/key.json --iam-account my-vision-sa@${PROJECT_ID}.iam.gserviceaccount.com"
   ]
  },
  {
   "cell_type": "code",
   "execution_count": 40,
   "id": "2488c2e3-8c92-4423-b292-2c9c9525421d",
   "metadata": {},
   "outputs": [],
   "source": [
    "os.environ[\"GOOGLE_APPLICATION_CREDENTIALS\"] = os.path.abspath(\"key.json\")"
   ]
  },
  {
   "cell_type": "code",
   "execution_count": 42,
   "id": "49413e5b-f420-48bc-a4ea-006daf5cd3a2",
   "metadata": {},
   "outputs": [],
   "source": [
    "vision_client = vision.ImageAnnotatorClient()"
   ]
  },
  {
   "cell_type": "code",
   "execution_count": 52,
   "id": "a020a08f-6e0c-4b24-b085-8e4a8fe27cd9",
   "metadata": {},
   "outputs": [],
   "source": [
    "path = 'sign.jpg'"
   ]
  },
  {
   "cell_type": "code",
   "execution_count": 53,
   "id": "a0b81887-6c60-49fd-8823-ba7ae1a6385f",
   "metadata": {},
   "outputs": [],
   "source": [
    "with io.open(path, 'rb') as image_file:\n",
    "    content = image_file.read()"
   ]
  },
  {
   "cell_type": "code",
   "execution_count": 57,
   "id": "79857c7d-7618-402b-af3f-bbabe24375d8",
   "metadata": {},
   "outputs": [],
   "source": [
    "image_object = vision.Image(content=content)"
   ]
  },
  {
   "cell_type": "code",
   "execution_count": 58,
   "id": "753280e8-8261-4107-97c4-92706e04e6e7",
   "metadata": {},
   "outputs": [],
   "source": [
    "response = vision_client.text_detection(image=image_object)"
   ]
  },
  {
   "cell_type": "code",
   "execution_count": null,
   "id": "51bc30ad-f92e-424d-9432-d2046f47abdc",
   "metadata": {},
   "outputs": [],
   "source": [
    "response"
   ]
  },
  {
   "cell_type": "code",
   "execution_count": null,
   "id": "4b23b223-b012-4473-897e-be00efb0daa5",
   "metadata": {},
   "outputs": [],
   "source": [
    "|"
   ]
  }
 ],
 "metadata": {
  "environment": {
   "name": "tf2-gpu.2-6.m81",
   "type": "gcloud",
   "uri": "gcr.io/deeplearning-platform-release/tf2-gpu.2-6:m81"
  },
  "kernelspec": {
   "display_name": "Python 3",
   "language": "python",
   "name": "python3"
  },
  "language_info": {
   "codemirror_mode": {
    "name": "ipython",
    "version": 3
   },
   "file_extension": ".py",
   "mimetype": "text/x-python",
   "name": "python",
   "nbconvert_exporter": "python",
   "pygments_lexer": "ipython3",
   "version": "3.7.10"
  }
 },
 "nbformat": 4,
 "nbformat_minor": 5
}
