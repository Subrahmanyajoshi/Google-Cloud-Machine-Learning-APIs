{
 "cells": [
  {
   "cell_type": "code",
   "execution_count": 1,
   "id": "d50f0ab5-2dd8-46ac-8c09-1026de425b69",
   "metadata": {},
   "outputs": [],
   "source": [
    "import os\n",
    "import io\n",
    "\n",
    "from IPython.display import Video\n",
    "from google.cloud import videointelligence_v1 as videointelligence"
   ]
  },
  {
   "cell_type": "code",
   "execution_count": 2,
   "id": "0a8e9cbb-7b3c-4664-b973-2a4ec7fbc82f",
   "metadata": {},
   "outputs": [],
   "source": [
    "os.environ[\"PROJECT_ID\"] = \"text-analysis-323506\""
   ]
  },
  {
   "cell_type": "markdown",
   "id": "2ff0d8fe-feb9-4c14-9fa6-72ba3b3122e5",
   "metadata": {},
   "source": [
    " "
   ]
  },
  {
   "cell_type": "markdown",
   "id": "92bde09d-da96-4287-addf-dac9acb6f8c4",
   "metadata": {},
   "source": [
    " "
   ]
  },
  {
   "cell_type": "markdown",
   "id": "b9dae740-d4ee-4e38-a587-f47b92e74e29",
   "metadata": {},
   "source": [
    "### Create a new Google Cloud service account to access the APIs programmatically."
   ]
  },
  {
   "cell_type": "markdown",
   "id": "55391bb4-fd8b-47cb-82e4-da8a5552ee1d",
   "metadata": {},
   "source": [
    "__Don't run the following cell if you already have setup a cloud service account and have it's associated key__.\n",
    "\n",
    "Following command creates a Google Cloud Service account, which is required to access APIs. This command should be run only once. When ran for the first time, it create a service account, details of which can be found in IAM & Admin section of GCP console.\n",
    "\n",
    "After that, it creates a Google Cloud Service account key got the newly created account. Key is stored at /home/jupyter directory. Download this key. Upload it the next time when this notebook is to be run again. __Following cell should not be run more than once, unless we want to create a new cloud service account__."
   ]
  },
  {
   "cell_type": "code",
   "execution_count": null,
   "id": "729c7c50-914a-4e06-ab44-c566620c676e",
   "metadata": {},
   "outputs": [],
   "source": [
    "%%bash\n",
    "\n",
    "# These should be run only once. These commands setup a cloud service account with required permissions to call APIs\n",
    "gcloud iam service-accounts create my-api-sa --display-name \"api account\"\n",
    "gcloud iam service-accounts keys create ~/key.json --iam-account my-api-sa@${PROJECT_ID}.iam.gserviceaccount.com"
   ]
  },
  {
   "cell_type": "markdown",
   "id": "ef1dcaab-ed50-412c-9e65-14c2ac501824",
   "metadata": {},
   "source": [
    " "
   ]
  },
  {
   "cell_type": "markdown",
   "id": "cee4bf37-1db4-4e5e-b178-d4b63ddd5629",
   "metadata": {},
   "source": [
    " "
   ]
  },
  {
   "cell_type": "markdown",
   "id": "c2e32589-8df8-4a36-9bcb-46ae83d02582",
   "metadata": {},
   "source": [
    "Following command stores path to json file in an environment variable. This is required to access API endpoints using python."
   ]
  },
  {
   "cell_type": "code",
   "execution_count": 3,
   "id": "d8e142b7-8f9f-4f69-af44-3649f1cd7fb1",
   "metadata": {},
   "outputs": [],
   "source": [
    "os.environ[\"GOOGLE_APPLICATION_CREDENTIALS\"] = os.path.abspath(\"/home/jupyter/key.json\")"
   ]
  },
  {
   "cell_type": "markdown",
   "id": "4e4720fc-7e8e-43e3-92ba-904b8ccfdfbd",
   "metadata": {},
   "source": [
    "#### Create a Google Cloud Video Intelligence API client object"
   ]
  },
  {
   "cell_type": "code",
   "execution_count": 4,
   "id": "27e1b815-cb1d-4a2e-a831-a34d5be2535f",
   "metadata": {},
   "outputs": [],
   "source": [
    "video_client = videointelligence.VideoIntelligenceServiceClient()"
   ]
  },
  {
   "cell_type": "markdown",
   "id": "8811f010-863e-4af1-b9ec-2473b53951db",
   "metadata": {},
   "source": [
    " "
   ]
  },
  {
   "cell_type": "markdown",
   "id": "1a3749cb-7ac6-445e-9b57-22df9c620bcf",
   "metadata": {},
   "source": [
    "### Important: \n",
    "#### Enable Cloud Video Intelligence API and Cloud Text-to-Speech API for this project in Google Cloud Platform console."
   ]
  },
  {
   "cell_type": "markdown",
   "id": "eebb521b-d6b1-4904-94ce-04c71df14bf7",
   "metadata": {},
   "source": [
    " "
   ]
  },
  {
   "cell_type": "markdown",
   "id": "89072e54-1218-4261-a140-31a36765efd7",
   "metadata": {},
   "source": [
    "## Label Detection"
   ]
  },
  {
   "cell_type": "markdown",
   "id": "cbcd7e8c-65d3-427c-8879-a0a8cfc86f1c",
   "metadata": {},
   "source": [
    "Detects everything it can detect in the input video, labels it and returns it. For each label, info about what part of the video was it detected in is also returned."
   ]
  },
  {
   "cell_type": "markdown",
   "id": "12e74bc2-51ff-4897-be36-74a9b748afd4",
   "metadata": {},
   "source": [
    "For this demo i'm using an animated video sample of 15 seconds i found on the internet. It can be found under the 'data' folder in the same directory this notebook is located. "
   ]
  },
  {
   "cell_type": "code",
   "execution_count": 15,
   "id": "1f6a4c67-2608-4809-9ec6-31366e953d90",
   "metadata": {},
   "outputs": [],
   "source": [
    "video_file_path = './data/animated_sample.mp4'"
   ]
  },
  {
   "cell_type": "code",
   "execution_count": 16,
   "id": "1e601ed9-d6e1-4991-9c9f-e0443c362de7",
   "metadata": {},
   "outputs": [
    {
     "data": {
      "text/html": [
       "<video src=\"./data/animated_sample.mp4\" controls  >\n",
       "      Your browser does not support the <code>video</code> element.\n",
       "    </video>"
      ],
      "text/plain": [
       "<IPython.core.display.Video object>"
      ]
     },
     "execution_count": 16,
     "metadata": {},
     "output_type": "execute_result"
    }
   ],
   "source": [
    "Video(video_file_path)"
   ]
  },
  {
   "cell_type": "code",
   "execution_count": 17,
   "id": "b4d78a6b-64fc-4549-980a-9f0e4dc30462",
   "metadata": {},
   "outputs": [],
   "source": [
    "with io.open(video_file_path, \"rb\") as f:\n",
    "    input_content = f.read()"
   ]
  },
  {
   "cell_type": "code",
   "execution_count": 18,
   "id": "7ae5b25d-dcd4-45c6-b9ad-37ce5b4b76cc",
   "metadata": {},
   "outputs": [],
   "source": [
    "# create request\n",
    "operation = video_client.annotate_video(\n",
    "    request={\n",
    "        \"features\": [videointelligence.Feature.LABEL_DETECTION],\n",
    "        \"input_content\": input_content\n",
    "    }\n",
    ")"
   ]
  },
  {
   "cell_type": "code",
   "execution_count": 19,
   "id": "7a2a19b8-31e0-491a-bab5-175d2cbda54d",
   "metadata": {},
   "outputs": [],
   "source": [
    "response = operation.result(timeout=300)"
   ]
  },
  {
   "cell_type": "markdown",
   "id": "cb204f6c-a83d-411b-8441-f8dc1c9161f6",
   "metadata": {},
   "source": [
    "#### Major Labels returned by API"
   ]
  },
  {
   "cell_type": "code",
   "execution_count": 20,
   "id": "7b772f82-379e-4f9b-ad82-27196955d84b",
   "metadata": {},
   "outputs": [
    {
     "name": "stdout",
     "output_type": "stream",
     "text": [
      "rabbit\n",
      "animation\n",
      "nature\n",
      "wildlife\n",
      "animal\n",
      "grass\n",
      "hare\n",
      "sky\n"
     ]
    }
   ],
   "source": [
    "for annotations in response.annotation_results:\n",
    "    for shot in annotations.shot_label_annotations :\n",
    "        print(shot.entity.description)"
   ]
  },
  {
   "cell_type": "markdown",
   "id": "088513e4-8aca-4b14-92dd-a9a21bf3fba6",
   "metadata": {},
   "source": [
    "#### Dumping response to a text file"
   ]
  },
  {
   "cell_type": "code",
   "execution_count": 21,
   "id": "17f0a9bb-1dc9-40a3-b882-bd3b7f2634fb",
   "metadata": {},
   "outputs": [],
   "source": [
    "with open('./results/label_detection.txt', 'w') as fstream:\n",
    "    fstream.write(str(response))"
   ]
  },
  {
   "cell_type": "markdown",
   "id": "3b88a610-08cc-4cbf-83f8-b406953e4983",
   "metadata": {},
   "source": [
    "Label Detection endpoint returns way more information that what i printed on screen. Find it in label_detection.txt under 'results' folder"
   ]
  },
  {
   "cell_type": "markdown",
   "id": "5829ac20-3519-4446-937c-e24cd3d6a0d2",
   "metadata": {},
   "source": [
    " "
   ]
  },
  {
   "cell_type": "markdown",
   "id": "a6f99bfd-ac05-470d-ad38-6565743d5a59",
   "metadata": {},
   "source": [
    "## Logo Detection"
   ]
  },
  {
   "cell_type": "markdown",
   "id": "402d1f6d-a986-41c6-9249-bbd4b81d6c6b",
   "metadata": {},
   "source": [
    "Detects logos in input video"
   ]
  },
  {
   "cell_type": "markdown",
   "id": "8b6703d7-8fd8-49c0-8860-95087c83551e",
   "metadata": {},
   "source": [
    "For this demo i'm using an advertisement video by pepsi"
   ]
  },
  {
   "cell_type": "code",
   "execution_count": 53,
   "id": "df1d82b1-83a7-453c-9333-9251711e822e",
   "metadata": {},
   "outputs": [],
   "source": [
    "video_file_path = './data/pepsi_advertisement.mp4'"
   ]
  },
  {
   "cell_type": "code",
   "execution_count": 54,
   "id": "410bb7b5-40d6-4b4f-b4ad-0799c594284a",
   "metadata": {},
   "outputs": [
    {
     "data": {
      "text/html": [
       "<video src=\"./data/pepsi_advertisement.mp4\" controls  >\n",
       "      Your browser does not support the <code>video</code> element.\n",
       "    </video>"
      ],
      "text/plain": [
       "<IPython.core.display.Video object>"
      ]
     },
     "execution_count": 54,
     "metadata": {},
     "output_type": "execute_result"
    }
   ],
   "source": [
    "Video(video_file_path)"
   ]
  },
  {
   "cell_type": "code",
   "execution_count": 55,
   "id": "d58862f0-2538-47d2-940b-3891b077c8cb",
   "metadata": {},
   "outputs": [],
   "source": [
    " with io.open(video_file_path, \"rb\") as f:\n",
    "    input_content = f.read()"
   ]
  },
  {
   "cell_type": "code",
   "execution_count": 56,
   "id": "daacb279-43a4-4f66-a2b1-d995482fcf23",
   "metadata": {},
   "outputs": [],
   "source": [
    "# create request\n",
    "operation = video_client.annotate_video(\n",
    "    request={\n",
    "        \"features\": [videointelligence.Feature.LOGO_RECOGNITION],\n",
    "        \"input_content\": input_content\n",
    "    }\n",
    ")"
   ]
  },
  {
   "cell_type": "code",
   "execution_count": 57,
   "id": "725d0523-7ffb-42e5-8153-0a1bc9ab61a2",
   "metadata": {},
   "outputs": [],
   "source": [
    "response = operation.result(timeout=300)"
   ]
  },
  {
   "cell_type": "markdown",
   "id": "bd1ca984-ccc1-41bb-b32e-2748ff156c92",
   "metadata": {},
   "source": [
    "#### Logos returned by API"
   ]
  },
  {
   "cell_type": "code",
   "execution_count": 60,
   "id": "da15cbaf-3b3f-4ad1-9915-0ae58ce76ba9",
   "metadata": {},
   "outputs": [
    {
     "name": "stdout",
     "output_type": "stream",
     "text": [
      "Logo: Pepsi, Confidence: 0.9548713564872742\n",
      "Logo: UEFA, Confidence: 0.9070633053779602\n",
      "Logo: Renault Samsung Motors, Confidence: 0.8907700777053833\n"
     ]
    }
   ],
   "source": [
    "for annotations in response.annotation_results:\n",
    "    for logo in annotations.logo_recognition_annotations:\n",
    "        print(f\"Logo: {logo.entity.description}, Confidence: {logo.tracks[0].confidence}\")"
   ]
  },
  {
   "cell_type": "markdown",
   "id": "758636e3-3a73-404c-90d8-981770bd52fa",
   "metadata": {},
   "source": [
    "#### Dumping response to a text file"
   ]
  },
  {
   "cell_type": "code",
   "execution_count": 61,
   "id": "bd951f1d-0abd-451b-aa3b-96514ed17492",
   "metadata": {},
   "outputs": [],
   "source": [
    "with open('./results/logo_detection.txt', 'w') as fstream:\n",
    "    fstream.write(str(response))"
   ]
  },
  {
   "cell_type": "markdown",
   "id": "42aa8a51-4dda-40cb-9258-83118859cfb6",
   "metadata": {},
   "source": [
    " "
   ]
  },
  {
   "cell_type": "markdown",
   "id": "403d927e-826e-4637-a041-921390d48406",
   "metadata": {},
   "source": [
    "## Face Detection"
   ]
  },
  {
   "cell_type": "markdown",
   "id": "aa92336c-6955-4fc5-b445-f7031509f4c3",
   "metadata": {},
   "source": [
    "Detects faces in input video"
   ]
  },
  {
   "cell_type": "markdown",
   "id": "d878fc23-8cb8-47be-9b7f-d802fb3ce4df",
   "metadata": {},
   "source": [
    "For this demo i'm using the same video i have used for logo detection. (pepsi advertisement video)"
   ]
  },
  {
   "cell_type": "code",
   "execution_count": 62,
   "id": "ee13894d-40be-43d5-82fb-6fa26763643b",
   "metadata": {},
   "outputs": [],
   "source": [
    "video_file_path = './data/pepsi_advertisement.mp4'"
   ]
  },
  {
   "cell_type": "code",
   "execution_count": 63,
   "id": "83836608-9917-4b03-8288-985a9b75d220",
   "metadata": {},
   "outputs": [
    {
     "data": {
      "text/html": [
       "<video src=\"./data/pepsi_advertisement.mp4\" controls  >\n",
       "      Your browser does not support the <code>video</code> element.\n",
       "    </video>"
      ],
      "text/plain": [
       "<IPython.core.display.Video object>"
      ]
     },
     "execution_count": 63,
     "metadata": {},
     "output_type": "execute_result"
    }
   ],
   "source": [
    "Video(video_file_path)"
   ]
  },
  {
   "cell_type": "code",
   "execution_count": 64,
   "id": "5b4ea60b-df92-4cf4-9a5a-6131e4625221",
   "metadata": {},
   "outputs": [],
   "source": [
    " with io.open(video_file_path, \"rb\") as f:\n",
    "    input_content = f.read()"
   ]
  },
  {
   "cell_type": "code",
   "execution_count": 66,
   "id": "726e5c5f-1183-4c04-a0d8-74a1a7290bd9",
   "metadata": {},
   "outputs": [],
   "source": [
    "# Configure the request\n",
    "config = videointelligence.FaceDetectionConfig(\n",
    "    include_bounding_boxes=True, include_attributes=True\n",
    ")"
   ]
  },
  {
   "cell_type": "code",
   "execution_count": 67,
   "id": "e74b0211-b652-4eee-9758-d04a70556a03",
   "metadata": {},
   "outputs": [],
   "source": [
    "context = videointelligence.VideoContext(face_detection_config=config)"
   ]
  },
  {
   "cell_type": "code",
   "execution_count": 68,
   "id": "6f5b558a-5818-4cfb-8f9a-9482e227fee7",
   "metadata": {},
   "outputs": [],
   "source": [
    "# create request\n",
    "operation = video_client.annotate_video(\n",
    "    request={\n",
    "        \"features\": [videointelligence.Feature.FACE_DETECTION],\n",
    "        \"input_content\": input_content,\n",
    "        \"video_context\": context,\n",
    "    }\n",
    ")"
   ]
  },
  {
   "cell_type": "code",
   "execution_count": 69,
   "id": "d6ed8652-4e21-4e5e-bdfe-66fa35141fb1",
   "metadata": {},
   "outputs": [],
   "source": [
    "response = operation.result(timeout=300)"
   ]
  },
  {
   "cell_type": "markdown",
   "id": "ac05e328-2756-42a8-8286-4d2194afd1c7",
   "metadata": {},
   "source": [
    "#### Dumping response to a text file"
   ]
  },
  {
   "cell_type": "code",
   "execution_count": 71,
   "id": "d727f564-d273-4e38-b37f-20877126b1d7",
   "metadata": {},
   "outputs": [],
   "source": [
    "with open('./results/face_detection.txt', 'w') as fstream:\n",
    "    fstream.write(str(response))"
   ]
  },
  {
   "cell_type": "markdown",
   "id": "e647516c-aa0f-48b4-911e-331b0cd05cc1",
   "metadata": {},
   "source": [
    "Response is too big to be displayed. Find it in results/face_detection.txt. API returns bounding boxes for each of the face found along with much more additional information like emotion of the detected face, whether the detected face is looking at the camera or not and many more.   "
   ]
  },
  {
   "cell_type": "code",
   "execution_count": null,
   "id": "7867d600-c5a9-430f-9136-e66b23a77e79",
   "metadata": {},
   "outputs": [],
   "source": []
  }
 ],
 "metadata": {
  "environment": {
   "kernel": "python3",
   "name": "tf2-gpu.2-6.m82",
   "type": "gcloud",
   "uri": "gcr.io/deeplearning-platform-release/tf2-gpu.2-6:m82"
  },
  "kernelspec": {
   "display_name": "Python 3",
   "language": "python",
   "name": "python3"
  },
  "language_info": {
   "codemirror_mode": {
    "name": "ipython",
    "version": 3
   },
   "file_extension": ".py",
   "mimetype": "text/x-python",
   "name": "python",
   "nbconvert_exporter": "python",
   "pygments_lexer": "ipython3",
   "version": "3.7.10"
  }
 },
 "nbformat": 4,
 "nbformat_minor": 5
}
