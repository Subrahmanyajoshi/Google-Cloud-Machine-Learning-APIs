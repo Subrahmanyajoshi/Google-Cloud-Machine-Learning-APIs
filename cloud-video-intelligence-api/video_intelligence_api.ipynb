{
 "cells": [
  {
   "cell_type": "code",
   "execution_count": 1,
   "id": "d50f0ab5-2dd8-46ac-8c09-1026de425b69",
   "metadata": {},
   "outputs": [],
   "source": [
    "import os\n",
    "import io\n",
    "\n",
    "from IPython.display import Video\n",
    "from google.cloud import videointelligence_v1 as videointelligence"
   ]
  },
  {
   "cell_type": "code",
   "execution_count": 2,
   "id": "0a8e9cbb-7b3c-4664-b973-2a4ec7fbc82f",
   "metadata": {},
   "outputs": [],
   "source": [
    "os.environ[\"PROJECT_ID\"] = \"text-analysis-323506\""
   ]
  },
  {
   "cell_type": "markdown",
   "id": "2ff0d8fe-feb9-4c14-9fa6-72ba3b3122e5",
   "metadata": {},
   "source": [
    " "
   ]
  },
  {
   "cell_type": "markdown",
   "id": "92bde09d-da96-4287-addf-dac9acb6f8c4",
   "metadata": {},
   "source": [
    " "
   ]
  },
  {
   "cell_type": "markdown",
   "id": "b9dae740-d4ee-4e38-a587-f47b92e74e29",
   "metadata": {},
   "source": [
    "### Create a new Google Cloud service account to access the APIs programmatically."
   ]
  },
  {
   "cell_type": "markdown",
   "id": "55391bb4-fd8b-47cb-82e4-da8a5552ee1d",
   "metadata": {},
   "source": [
    "__Don't run the following cell if you already have setup a cloud service account and have it's associated key__.\n",
    "\n",
    "Following command creates a Google Cloud Service account, which is required to access APIs. This command should be run only once. When ran for the first time, it create a service account, details of which can be found in IAM & Admin section of GCP console.\n",
    "\n",
    "After that, it creates a Google Cloud Service account key got the newly created account. Key is stored at /home/jupyter directory. Download this key. Upload it the next time when this notebook is to be run again. __Following cell should not be run more than once, unless we want to create a new cloud service account__."
   ]
  },
  {
   "cell_type": "code",
   "execution_count": null,
   "id": "729c7c50-914a-4e06-ab44-c566620c676e",
   "metadata": {},
   "outputs": [],
   "source": [
    "%%bash\n",
    "\n",
    "# These should be run only once. These commands setup a cloud service account with required permissions to call APIs\n",
    "gcloud iam service-accounts create my-api-sa --display-name \"api account\"\n",
    "gcloud iam service-accounts keys create ~/key.json --iam-account my-api-sa@${PROJECT_ID}.iam.gserviceaccount.com"
   ]
  },
  {
   "cell_type": "markdown",
   "id": "ef1dcaab-ed50-412c-9e65-14c2ac501824",
   "metadata": {},
   "source": [
    " "
   ]
  },
  {
   "cell_type": "markdown",
   "id": "cee4bf37-1db4-4e5e-b178-d4b63ddd5629",
   "metadata": {},
   "source": [
    " "
   ]
  },
  {
   "cell_type": "markdown",
   "id": "c2e32589-8df8-4a36-9bcb-46ae83d02582",
   "metadata": {},
   "source": [
    "Following command stores path to json file in an environment variable. This is required to access API endpoints using python."
   ]
  },
  {
   "cell_type": "code",
   "execution_count": 3,
   "id": "d8e142b7-8f9f-4f69-af44-3649f1cd7fb1",
   "metadata": {},
   "outputs": [],
   "source": [
    "os.environ[\"GOOGLE_APPLICATION_CREDENTIALS\"] = os.path.abspath(\"/home/jupyter/key.json\")"
   ]
  },
  {
   "cell_type": "markdown",
   "id": "4e4720fc-7e8e-43e3-92ba-904b8ccfdfbd",
   "metadata": {},
   "source": [
    "#### Create a Google Cloud Video Intelligence API client object"
   ]
  },
  {
   "cell_type": "code",
   "execution_count": 4,
   "id": "27e1b815-cb1d-4a2e-a831-a34d5be2535f",
   "metadata": {},
   "outputs": [],
   "source": [
    "video_client = videointelligence.VideoIntelligenceServiceClient()"
   ]
  },
  {
   "cell_type": "markdown",
   "id": "8811f010-863e-4af1-b9ec-2473b53951db",
   "metadata": {},
   "source": [
    " "
   ]
  },
  {
   "cell_type": "markdown",
   "id": "1a3749cb-7ac6-445e-9b57-22df9c620bcf",
   "metadata": {},
   "source": [
    "### Important: \n",
    "#### Enable Cloud Video Intelligence API and Cloud Text-to-Speech API for this project in Google Cloud Platform console."
   ]
  },
  {
   "cell_type": "markdown",
   "id": "eebb521b-d6b1-4904-94ce-04c71df14bf7",
   "metadata": {},
   "source": [
    " "
   ]
  },
  {
   "cell_type": "markdown",
   "id": "89072e54-1218-4261-a140-31a36765efd7",
   "metadata": {},
   "source": [
    "## Label Detection"
   ]
  },
  {
   "cell_type": "markdown",
   "id": "cbcd7e8c-65d3-427c-8879-a0a8cfc86f1c",
   "metadata": {},
   "source": [
    "Detects everything it can detect in the input video, labels it and returns it. For each label, info about what part of the video was it detected in is also returned."
   ]
  },
  {
   "cell_type": "markdown",
   "id": "12e74bc2-51ff-4897-be36-74a9b748afd4",
   "metadata": {},
   "source": [
    "For this demo i'm using an animated video sample of 15 seconds i found on the internet. It can be found under the 'data' folder in the same directory this notebook is located. "
   ]
  },
  {
   "cell_type": "code",
   "execution_count": 5,
   "id": "1f6a4c67-2608-4809-9ec6-31366e953d90",
   "metadata": {},
   "outputs": [],
   "source": [
    "video_file_path = './data/demo_sample.mp4'"
   ]
  },
  {
   "cell_type": "code",
   "execution_count": 6,
   "id": "1e601ed9-d6e1-4991-9c9f-e0443c362de7",
   "metadata": {},
   "outputs": [
    {
     "data": {
      "text/html": [
       "<video src=\"./data/demo_sample.mp4\" controls  >\n",
       "      Your browser does not support the <code>video</code> element.\n",
       "    </video>"
      ],
      "text/plain": [
       "<IPython.core.display.Video object>"
      ]
     },
     "execution_count": 6,
     "metadata": {},
     "output_type": "execute_result"
    }
   ],
   "source": [
    "Video(video_file_path)"
   ]
  },
  {
   "cell_type": "code",
   "execution_count": 9,
   "id": "b4d78a6b-64fc-4549-980a-9f0e4dc30462",
   "metadata": {},
   "outputs": [],
   "source": [
    "with io.open(video_file_path, \"rb\") as f:\n",
    "    input_content = f.read()"
   ]
  },
  {
   "cell_type": "code",
   "execution_count": 10,
   "id": "7ae5b25d-dcd4-45c6-b9ad-37ce5b4b76cc",
   "metadata": {},
   "outputs": [],
   "source": [
    "# Send request\n",
    "operation = video_client.annotate_video(\n",
    "    request={\n",
    "        \"features\": [videointelligence.Feature.LABEL_DETECTION],\n",
    "        \"input_content\": input_content\n",
    "    }\n",
    ")"
   ]
  },
  {
   "cell_type": "code",
   "execution_count": 11,
   "id": "7a2a19b8-31e0-491a-bab5-175d2cbda54d",
   "metadata": {},
   "outputs": [],
   "source": [
    "response = operation.result(timeout=300)"
   ]
  },
  {
   "cell_type": "markdown",
   "id": "cb204f6c-a83d-411b-8441-f8dc1c9161f6",
   "metadata": {},
   "source": [
    "#### Major Labels returned by API"
   ]
  },
  {
   "cell_type": "code",
   "execution_count": 12,
   "id": "7b772f82-379e-4f9b-ad82-27196955d84b",
   "metadata": {},
   "outputs": [
    {
     "name": "stdout",
     "output_type": "stream",
     "text": [
      "rabbit\n",
      "wildlife\n",
      "hare\n",
      "animation\n",
      "animal\n",
      "sky\n",
      "grass\n",
      "nature\n"
     ]
    }
   ],
   "source": [
    "for annotations in response.annotation_results:\n",
    "    for shot in annotations.shot_label_annotations :\n",
    "        print(shot.entity.description)"
   ]
  },
  {
   "cell_type": "markdown",
   "id": "088513e4-8aca-4b14-92dd-a9a21bf3fba6",
   "metadata": {},
   "source": [
    "#### Dumping response to a text file"
   ]
  },
  {
   "cell_type": "code",
   "execution_count": 13,
   "id": "17f0a9bb-1dc9-40a3-b882-bd3b7f2634fb",
   "metadata": {},
   "outputs": [],
   "source": [
    "with open('./results/label_detection.txt', 'w') as fstream:\n",
    "    fstream.write(str(response))"
   ]
  },
  {
   "cell_type": "markdown",
   "id": "3b88a610-08cc-4cbf-83f8-b406953e4983",
   "metadata": {},
   "source": [
    "Label Detection endpoint returns way more information that what i printed on screen. Find it in label_detection.txt under 'results' folder"
   ]
  },
  {
   "cell_type": "markdown",
   "id": "5829ac20-3519-4446-937c-e24cd3d6a0d2",
   "metadata": {},
   "source": [
    " "
   ]
  },
  {
   "cell_type": "code",
   "execution_count": null,
   "id": "68ea3abf-5563-4b83-a8f4-5aca788d398b",
   "metadata": {},
   "outputs": [],
   "source": []
  }
 ],
 "metadata": {
  "environment": {
   "kernel": "python3",
   "name": "tf2-gpu.2-6.m82",
   "type": "gcloud",
   "uri": "gcr.io/deeplearning-platform-release/tf2-gpu.2-6:m82"
  },
  "kernelspec": {
   "display_name": "Python 3",
   "language": "python",
   "name": "python3"
  },
  "language_info": {
   "codemirror_mode": {
    "name": "ipython",
    "version": 3
   },
   "file_extension": ".py",
   "mimetype": "text/x-python",
   "name": "python",
   "nbconvert_exporter": "python",
   "pygments_lexer": "ipython3",
   "version": "3.7.10"
  }
 },
 "nbformat": 4,
 "nbformat_minor": 5
}
